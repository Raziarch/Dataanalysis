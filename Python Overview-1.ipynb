{
 "cells": [
  {
   "cell_type": "markdown",
   "metadata": {},
   "source": [
    "        Data Science: A Programming Approach\n",
    "        Mahyar S Vaghefi\n",
    "        University of Texas Arlington\n",
    "        \n",
    "        This document can only be used for class studies. \n",
    "        You are not allowed to share it in any public platform."
   ]
  },
  {
   "cell_type": "markdown",
   "metadata": {},
   "source": [
    "<h1 align='center' style=\"color: blue;\">Python Overview</h1>"
   ]
  },
  {
   "cell_type": "markdown",
   "metadata": {},
   "source": [
    "## 1. Variables"
   ]
  },
  {
   "cell_type": "markdown",
   "metadata": {},
   "source": [
    "<p> What are variables? Variable are nothing but reserved memory locations to store values. This means that when you create a variable you reserve some space in memory. </p>\n",
    "\n",
    "<p>Common types of variables in python are:</p>\n",
    "<ul>\n",
    "    <li><b>Numeric:</b> integers, float, complex</li>\n",
    "    <li><b>Text:</b> String</li>\n",
    "    <li><b>Boolean:</b> True/False</li>\n",
    "    <li><b>Sequences:</b> list, tuple, range</li>\n",
    "</ul>\n",
    "\n",
    "<p><b>Note:</b> In Python you don't need to declare type of variables. The declaration happens automatically when you assign a value to a variable.</p>"
   ]
  },
  {
   "cell_type": "code",
   "execution_count": 20,
   "metadata": {},
   "outputs": [],
   "source": [
    "age = 20           # Define an integer variable\n",
    "miles = 123.4      # Define a float variable\n",
    "weight = 150.0     # If your initial value does not have a decimal value, \n",
    "                   # you still can define a float variable\n",
    "name = 'John'      # Define a sting variable "
   ]
  },
  {
   "cell_type": "markdown",
   "metadata": {},
   "source": [
    "<p><b>Note: </b>You can use <b style=\"color:blue;\">type( )</b> function to check the type of variables</p>"
   ]
  },
  {
   "cell_type": "code",
   "execution_count": 21,
   "metadata": {},
   "outputs": [
    {
     "name": "stdout",
     "output_type": "stream",
     "text": [
      "20 is a <class 'int'> type of variable\n",
      "150.0 is a <class 'float'> type of variable\n",
      "123.4 is a <class 'float'> type of vaible\n",
      "John is a <class 'str'> type of vaible\n"
     ]
    }
   ],
   "source": [
    "# use format function to print dynamic text\n",
    "print(\"{} is a {} type of variable\".format(age,type(age)))\n",
    "print(\"{} is a {} type of variable\".format(weight,type(weight)))\n",
    "# use %s to print dynamic text\n",
    "print(\"%s is a %s type of vaible\" %(miles,type(miles)))\n",
    "print(\"%s is a %s type of vaible\" %(name,type(name)))"
   ]
  },
  {
   "cell_type": "markdown",
   "metadata": {},
   "source": [
    "<p><b>Note: </b>Python allows you to assign a single value to several variables simultaneously</p>"
   ]
  },
  {
   "cell_type": "code",
   "execution_count": null,
   "metadata": {},
   "outputs": [],
   "source": [
    "var1 = var2 = var3 = 10\n",
    "print(\"var1 value is {}\".format(var1))\n",
    "print(\"var2 value is {}\".format(var2))\n",
    "print(\"var3 value is {}\".format(var3))"
   ]
  },
  {
   "cell_type": "markdown",
   "metadata": {},
   "source": [
    "<p><b>Note: </b>Python allows you to assign multiple objects to multiple variables simultaneously</p>"
   ]
  },
  {
   "cell_type": "code",
   "execution_count": null,
   "metadata": {},
   "outputs": [],
   "source": [
    "var4, var5, var6 = 11,12,\"Mike\"\n",
    "print(\"var4 value is {}\".format(var4))\n",
    "print(\"var5 value is {}\".format(var5))\n",
    "print(\"var6 value is {}\".format(var6))"
   ]
  },
  {
   "cell_type": "code",
   "execution_count": 8,
   "metadata": {},
   "outputs": [
    {
     "data": {
      "text/plain": [
       "'hell'"
      ]
     },
     "execution_count": 8,
     "metadata": {},
     "output_type": "execute_result"
    }
   ],
   "source": [
    "Last_index = len(list)-1\n",
    "my_list.append(era)\n",
    "my_list.insert(4, era)\n",
    "my_list.index(era)\n",
    "my_list.remove()\n",
    ".pop()\n",
    ".clear()\n",
    ".copy()\n",
    "del \n",
    "my_list_shallow_copy = my_list_copy\n",
    "my_list_shallow.copy.remove(\"apple\")\n",
    "#both of them are changed\n",
    "empt_tuple = ()"
   ]
  },
  {
   "cell_type": "code",
   "execution_count": 12,
   "metadata": {},
   "outputs": [
    {
     "data": {
      "text/plain": [
       "('apple', 'benana', 'orange')"
      ]
     },
     "execution_count": 12,
     "metadata": {},
     "output_type": "execute_result"
    }
   ],
   "source": [
    "#tuple = (aw, ert)\n",
    "\n",
    "#Ch_tuple = tuple(\"bedsheet\")\n",
    "#Ch_tuple\n",
    "fruit_list = [\"apple\", \"benana\", \"orange\"]\n",
    "fruit_tuple = tuple(fruit_list)\n",
    "fruit_tuple\n",
    "\"Apple\" in fruit_tuple"
   ]
  },
  {
   "cell_type": "code",
   "execution_count": 14,
   "metadata": {},
   "outputs": [
    {
     "data": {
      "text/plain": [
       "9"
      ]
     },
     "execution_count": 14,
     "metadata": {},
     "output_type": "execute_result"
    }
   ],
   "source": [
    "name_and_ages = {\"Suzie\": 6,\n",
    "                \"Calvin\": 9,\n",
    "                \"Hobbes\": 4}\n",
    "\n",
    "name_and_ages[\"Calvin\"]"
   ]
  },
  {
   "cell_type": "code",
   "execution_count": 19,
   "metadata": {},
   "outputs": [
    {
     "data": {
      "text/plain": [
       "{'Suzie': 6, 'Calvin': 9, 'Hobbes': 4, 'Rose': 15}"
      ]
     },
     "execution_count": 19,
     "metadata": {},
     "output_type": "execute_result"
    }
   ],
   "source": [
    "name_and_ages.items()\n",
    "name_and_ages[\"Rose\"]=15\n",
    "name_and_ages\n",
    "name_and_ages.pop[\"Calvin\"]\n",
    "del name_and_ages[\"Rose\"] "
   ]
  },
  {
   "cell_type": "code",
   "execution_count": 20,
   "metadata": {},
   "outputs": [
    {
     "data": {
      "text/plain": [
       "'Bill'"
      ]
     },
     "execution_count": 20,
     "metadata": {},
     "output_type": "execute_result"
    }
   ],
   "source": [
    "Occupations_and_names = {\"Doctors\": ['John','Nina'],\n",
    "                         \"Engineers\":[\"Bill\", \"Andy\"],\n",
    "                         \"Pilots\": [\"Richard\", \"Mike\"]}\n",
    "                        \n",
    "Occupations_and_names[\"Engineers\"][0]"
   ]
  },
  {
   "cell_type": "code",
   "execution_count": 21,
   "metadata": {},
   "outputs": [
    {
     "data": {
      "text/plain": [
       "'Susie'"
      ]
     },
     "execution_count": 21,
     "metadata": {},
     "output_type": "execute_result"
    }
   ],
   "source": [
    "int_key_dict = {1 : \"Susie\",\n",
    "                2 : \"Rose\",\n",
    "                3: \"Mike\"}\n",
    "\n",
    "int_key_dict[1]"
   ]
  },
  {
   "cell_type": "code",
   "execution_count": 26,
   "metadata": {},
   "outputs": [
    {
     "name": "stdout",
     "output_type": "stream",
     "text": [
      "you are saving: 300\n"
     ]
    }
   ],
   "source": [
    "salary = 1000\n",
    "expenses = 700\n",
    "\n",
    "if salary > expenses:\n",
    "    print(\"you are saving:\", salary - expenses)\n",
    "else:\n",
    "    print(\"loans:\", expenses - salary)"
   ]
  },
  {
   "cell_type": "code",
   "execution_count": null,
   "metadata": {},
   "outputs": [],
   "source": [
    "math_score = 20\n",
    "\n",
    "if math_score < 20:\n",
    "    print(\"is not a good score\", math_score)\n",
    "elif math_score < 50:\n",
    "    print(\" it is not bad\", math_score)\n",
    "elif math_score < 80:\n",
    "    print(\" it is good\", math_score)"
   ]
  },
  {
   "cell_type": "code",
   "execution_count": null,
   "metadata": {},
   "outputs": [],
   "source": [
    "num_list = [100, 80, 70]\n",
    "\n",
    "for num in num_list:\n",
    "    if num < 500:\n",
    "        print(\"<500:\", num)\n",
    "    else:\n",
    "        print(\">=500:\", num)"
   ]
  },
  {
   "cell_type": "code",
   "execution_count": 37,
   "metadata": {},
   "outputs": [
    {
     "name": "stdout",
     "output_type": "stream",
     "text": [
      "20\n",
      "24\n",
      "28\n",
      "32\n",
      "36\n"
     ]
    }
   ],
   "source": [
    "num = 10\n",
    "while num < 20 :\n",
    "    print(num + num)\n",
    "    num +=2"
   ]
  },
  {
   "cell_type": "code",
   "execution_count": 38,
   "metadata": {},
   "outputs": [
    {
     "name": "stdout",
     "output_type": "stream",
     "text": [
      "What's my fevorite car?\n",
      "Wrong, guess again\n",
      "toyota\n",
      "Wrong, guess again\n",
      "Aston Martin\n",
      "That's right:-)\n"
     ]
    }
   ],
   "source": [
    "car = input(\"What's my fevorite car?\")\n",
    "\n",
    "while car != \"Aston Martin\":\n",
    "    car = input(\"Wrong, guess again\\n\")\n",
    "\n",
    "    \n",
    "print (\"That's right:-)\")"
   ]
  },
  {
   "cell_type": "code",
   "execution_count": 40,
   "metadata": {},
   "outputs": [
    {
     "name": "stdout",
     "output_type": "stream",
     "text": [
      "checking... 100\n",
      "Not a multiple of 3:\n",
      "checking... 34\n",
      "Not a multiple of 3:\n",
      "checking... 45\n",
      "Multiple of 3!\n"
     ]
    }
   ],
   "source": [
    "numbers_list = [100, 34, 45, 56]\n",
    "for num in numbers_list:\n",
    "    print(\"checking...\", num)\n",
    "        \n",
    "    if num % 3 == 0:\n",
    "        print(\"Multiple of 3!\")\n",
    "        break\n",
    "    print(\"Not a multiple of 3:\")"
   ]
  },
  {
   "cell_type": "code",
   "execution_count": 43,
   "metadata": {},
   "outputs": [
    {
     "name": "stdout",
     "output_type": "stream",
     "text": [
      "10\n",
      "11\n",
      "12\n",
      "17\n",
      "18\n",
      "19\n",
      "20\n"
     ]
    }
   ],
   "source": [
    "for i in range(10, 21):\n",
    "    if i >= 13 and i<= 16:\n",
    "      pass\n",
    "    else:\n",
    "        print(i)"
   ]
  },
  {
   "cell_type": "markdown",
   "metadata": {},
   "source": [
    "## 2. Loops"
   ]
  },
  {
   "cell_type": "markdown",
   "metadata": {},
   "source": [
    "<p>There are situations when you need to execute a block of code specific number of times. In those cases you need to use loops. There are three main type of loops in Python:</p>\n",
    "<ul>\n",
    "    <li><b>while</b> - Repeats group of statements while a given condition remain True</li>\n",
    "    <li><b>for</b> - Repeats group of statements for a defined number of iterations</li>\n",
    "    <li><b>nested</b> - Use one or more loop inside any another </li>\n",
    "</ul>"
   ]
  },
  {
   "cell_type": "code",
   "execution_count": 186,
   "metadata": {},
   "outputs": [
    {
     "name": "stdout",
     "output_type": "stream",
     "text": [
      "counter is equal to 0\n",
      "counter is equal to 1\n",
      "counter is equal to 2\n",
      "counter is equal to 3\n",
      "counter is equal to 4\n",
      "counter is equal to 5\n",
      "counter is equal to 6\n",
      "counter is equal to 7\n",
      "counter is equal to 8\n",
      "counter is equal to 9\n",
      "counter is equal to 10\n",
      "counter is equal to 11\n",
      "counter is equal to 12\n",
      "counter is equal to 13\n",
      "counter is equal to 14\n",
      "counter is equal to 15\n"
     ]
    }
   ],
   "source": [
    "counter = 0\n",
    "while counter <= 15:\n",
    "    print(\"counter is equal to {}\".format(counter))\n",
    "    counter += 1"
   ]
  },
  {
   "cell_type": "markdown",
   "metadata": {},
   "source": [
    "<p><b>Note: </b> <b style=\"color:blue;\"> range( ) </b> is a function that returns a sequence of numbers. It contains three optional parameters.</p>\n",
    "<p>&nbsp;&nbsp;&nbsp;&nbsp;&nbsp;&nbsp;&nbsp;<i><b>Syntax:</b></i></p>\n",
    "<p>&nbsp;&nbsp;&nbsp;&nbsp;&nbsp;&nbsp;&nbsp;range(start, stop, step)</p>\n",
    "<ul>\n",
    "    <li>start: Optional. An integer number specifying at which position to start. Default is 0</li>\n",
    "    <li>stop: Optional. An integer number specifying at which position to end.</li>\n",
    "    <li>step: Optional. An integer number specifying the incrementation. Default is 1</li>\n",
    "<ul>"
   ]
  },
  {
   "cell_type": "code",
   "execution_count": 46,
   "metadata": {
    "scrolled": true
   },
   "outputs": [
    {
     "name": "stdout",
     "output_type": "stream",
     "text": [
      "i is equal to 0\n",
      "i is equal to 1\n",
      "i is equal to 2\n",
      "i is equal to 3\n",
      "i is equal to 4\n",
      "i is equal to 5\n",
      "i is equal to 6\n",
      "i is equal to 7\n",
      "i is equal to 8\n",
      "i is equal to 9\n"
     ]
    }
   ],
   "source": [
    "for i in range(0,10):\n",
    "    print(\"i is equal to {}\".format(i))"
   ]
  },
  {
   "cell_type": "code",
   "execution_count": 47,
   "metadata": {},
   "outputs": [
    {
     "name": "stdout",
     "output_type": "stream",
     "text": [
      "i is equal to 0\n",
      "i is equal to 1\n",
      "i is equal to 2\n",
      "i is equal to 3\n",
      "i is equal to 4\n"
     ]
    }
   ],
   "source": [
    "for i in range(5):\n",
    "    print(\"i is equal to {}\".format(i))"
   ]
  },
  {
   "cell_type": "code",
   "execution_count": 48,
   "metadata": {},
   "outputs": [
    {
     "name": "stdout",
     "output_type": "stream",
     "text": [
      "1 multiply by 1 is equal to 1\n",
      "1 multiply by 2 is equal to 2\n",
      "1 multiply by 3 is equal to 3\n",
      "2 multiply by 2 is equal to 4\n",
      "2 multiply by 3 is equal to 6\n",
      "3 multiply by 3 is equal to 9\n"
     ]
    }
   ],
   "source": [
    "for i in range(1,4):\n",
    "    for j in range(i,4):\n",
    "        print(\"{} multiply by {} is equal to {}\".format(i,j,i*j))"
   ]
  },
  {
   "cell_type": "markdown",
   "metadata": {},
   "source": [
    "<p><b>Note:</b> You can also use <b style=\"color:blue;\"> break </b> and <b style=\"color:blue;\"> continue </b> commands to add more controls to loops.</p>"
   ]
  },
  {
   "cell_type": "markdown",
   "metadata": {},
   "source": [
    "## 3. Conditions"
   ]
  },
  {
   "cell_type": "markdown",
   "metadata": {},
   "source": [
    "<p>Conditions allow decision making in programming. The general structure of conditions in Python is in the following format:</p>\n",
    "<p>\n",
    "<p><b>if</b> &nbsp;&nbsp; <i>Condition1</i>:</p>\n",
    "<p>&nbsp;&nbsp;&nbsp;&nbsp;&nbsp;&nbsp;&nbsp;&nbsp;<i>Statement1</i></p>\n",
    "<p><b>elif</b> &nbsp;&nbsp; <i>Condition2</i>:</p>\n",
    "<p>&nbsp;&nbsp;&nbsp;&nbsp;&nbsp;&nbsp;&nbsp;&nbsp;<i>Statement2</i></p>\n",
    "<p><b>else</b>:</p>\n",
    "<p>&nbsp;&nbsp;&nbsp;&nbsp;&nbsp;&nbsp;&nbsp;&nbsp;<i>Statement3</i></p>"
   ]
  },
  {
   "cell_type": "code",
   "execution_count": null,
   "metadata": {},
   "outputs": [],
   "source": [
    "# use if condition to find integer values less than 25 that are divisible by 4 \n",
    "for i in range(1,25):\n",
    "    if i % 4 == 0:\n",
    "        print(\"{} is divisible by 4\".format(i))"
   ]
  },
  {
   "cell_type": "markdown",
   "metadata": {},
   "source": [
    "<p><b>Example: </b> Complete the following code. The output should be in the following format:</p>\n",
    "<div>The remainder of dividng 1 by 3 is 1</div>\n",
    "<div>The remainder of dividng 2 by 3 is 2</div>\n",
    "<div>The remainder of dividng 3 by 3 is 0</div>\n",
    "<div>The remainder of dividng 4 by 3 is 1</div>\n",
    "<div>The remainder of dividng 5 by 3 is 2</div>\n",
    "<div>The remainder of dividng 6 by 3 is 0</div>"
   ]
  },
  {
   "cell_type": "code",
   "execution_count": 50,
   "metadata": {},
   "outputs": [
    {
     "name": "stdout",
     "output_type": "stream",
     "text": [
      "The remainder of dividng 1 by 3 is 1\n",
      "The remainder of dividing 2 by 3 is 2\n",
      "The remainder of dividing 3 by 3 is 0\n",
      "The remainder of dividng 4 by 3 is 1\n",
      "The remainder of dividing 5 by 3 is 2\n",
      "The remainder of dividing 6 by 3 is 0\n"
     ]
    }
   ],
   "source": [
    "for i in range(1,7):\n",
    "    if i%3 == 1:\n",
    "        print(\"The remainder of dividng {} by 3 is 1\".format(i))\n",
    "    elif i%3 == 2:\n",
    "        print(\"The remainder of dividing {} by 3 is 2\".format(i))\n",
    "    else:\n",
    "        print(\"The remainder of dividing {} by 3 is 0\".format(i))\n",
    "        "
   ]
  },
  {
   "cell_type": "markdown",
   "metadata": {},
   "source": [
    "<p><b>Example:</b> Write a loop code that prints all the numbers between 0 to 20 except 12 and 17.</p>"
   ]
  },
  {
   "cell_type": "code",
   "execution_count": null,
   "metadata": {},
   "outputs": [],
   "source": [
    "for i in range (1,21):\n",
    "    if i == 12 and i==17:\n",
    "    continue\n",
    "\n",
    "    else:\n",
    "    print(i)"
   ]
  },
  {
   "cell_type": "markdown",
   "metadata": {},
   "source": [
    "## 4. Functions"
   ]
  },
  {
   "cell_type": "markdown",
   "metadata": {},
   "source": [
    "<p>Functions in programming are used to bundle a set of codes that perform a specific task. Functions can be repeatedly use to carry out a task. It is good to know that functions might or might not accept inputs.</p>\n",
    "\n",
    "<p>Python itself contains many built-in functions that allow us to perform common tasks. Here are couple of examples for built-in functions:</p>\n",
    "\n",
    "<ul>\n",
    "    <li><b>print( )</b> - Print objects to the text stream file</li>\n",
    "    <li><b>min( )</b> - Return the smallest item in an iterable or the smallest of two or more arguments.</li>\n",
    "    <li><b>abs( )</b> - Return the absolute value of a number</li>\n",
    "</ul>\n",
    "\n",
    "<p>You can also define your own functions to perform the required tasks in your program. Here is the general structure of user-defined functions in python:</p>\n",
    "\n",
    "<p>def <i>name_of_the_function</i>(var1,var2, ...):</p>\n",
    "<p>&nbsp;&nbsp;&nbsp;&nbsp;&nbsp;&nbsp;&nbsp;&nbsp;<i>Statements</i></p>\n",
    "<p>&nbsp;&nbsp;&nbsp;&nbsp;&nbsp;&nbsp;&nbsp;&nbsp;return <i>result</i></p>"
   ]
  },
  {
   "cell_type": "code",
   "execution_count": 56,
   "metadata": {},
   "outputs": [
    {
     "name": "stdout",
     "output_type": "stream",
     "text": [
      "Sum of 2 and 3 is equal to 5\n"
     ]
    }
   ],
   "source": [
    "# Example\n",
    "# A function to compute sum of two numbers\n",
    "def my_sum(var1, var2):\n",
    "    res = var1 + var2\n",
    "    return res\n",
    "\n",
    "# Here is how you can call your function\n",
    "a = 2\n",
    "b = 3\n",
    "print(\"Sum of {} and {} is equal to {}\".format(a,b,my_sum(a,b)))"
   ]
  },
  {
   "cell_type": "markdown",
   "metadata": {},
   "source": [
    "<p><b>Example: </b> What is the output of the following code? </p>"
   ]
  },
  {
   "cell_type": "code",
   "execution_count": 1,
   "metadata": {},
   "outputs": [
    {
     "name": "stdout",
     "output_type": "stream",
     "text": [
      "10\n"
     ]
    }
   ],
   "source": [
    "def my_plus_one(var1):\n",
    "    var1 +=1\n",
    "\n",
    "a = 10\n",
    "my_plus_one(a)\n",
    "print(a)"
   ]
  },
  {
   "cell_type": "code",
   "execution_count": 3,
   "metadata": {},
   "outputs": [
    {
     "name": "stdout",
     "output_type": "stream",
     "text": [
      "11\n"
     ]
    }
   ],
   "source": [
    "def my_plus_one(var1):\n",
    "    var1 +=1\n",
    "    print(var1)\n",
    "    \n",
    "a = 10\n",
    "my_plus_one(a)"
   ]
  },
  {
   "cell_type": "markdown",
   "metadata": {},
   "source": [
    "<p><b>Example: </b> What is the output of the following code? </p>"
   ]
  },
  {
   "cell_type": "code",
   "execution_count": 65,
   "metadata": {},
   "outputs": [
    {
     "name": "stdout",
     "output_type": "stream",
     "text": [
      "a is equal to 6 | b is equal to 11\n"
     ]
    }
   ],
   "source": [
    "def my_swap(var1, var2):\n",
    "    tmp = var1\n",
    "    var1 = var2\n",
    "    var2 = tmp\n",
    "\n",
    "a = 6\n",
    "b = 11\n",
    "my_swap(a, b)\n",
    "print(\"a is equal to {} | b is equal to {}\".format(a,b))"
   ]
  },
  {
   "cell_type": "markdown",
   "metadata": {},
   "source": [
    "### 4.1 Exeptions"
   ]
  },
  {
   "cell_type": "markdown",
   "metadata": {},
   "source": [
    "<p>Keep in mind that different forms of errors can happen in programming. An exception is an <u>error</u> that happens during execution of a program. When that error occurs, Python generate an exception that can be handled, which avoids your program to crash.</p>\n",
    "\n",
    "<p>Here is the general syntax of how you can handle common exceptions:"
   ]
  },
  {
   "cell_type": "markdown",
   "metadata": {},
   "source": [
    "<p>&nbsp;&nbsp;&nbsp;&nbsp;&nbsp;&nbsp;&nbsp;<i><b>Syntax:</b></i></p>\n",
    "\n",
    "<p>&nbsp;&nbsp;&nbsp;&nbsp;&nbsp;&nbsp;&nbsp;try:</p>\n",
    "<p>&nbsp;&nbsp;&nbsp;&nbsp;&nbsp;&nbsp;&nbsp;&nbsp;&nbsp;&nbsp;&nbsp;&nbsp;&nbsp;&nbsp;<i><u>your program code</u></i></p>\n",
    "<p>&nbsp;&nbsp;&nbsp;&nbsp;&nbsp;&nbsp;&nbsp;except <i>NameOfTheError</i>:</p>\n",
    "<p>&nbsp;&nbsp;&nbsp;&nbsp;&nbsp;&nbsp;&nbsp;&nbsp;&nbsp;&nbsp;&nbsp;&nbsp;&nbsp;&nbsp;<i><u>code to handle the error</u></i></p>\n",
    "<p>&nbsp;&nbsp;&nbsp;&nbsp;&nbsp;&nbsp;&nbsp;except:</p>\n",
    "<p>&nbsp;&nbsp;&nbsp;&nbsp;&nbsp;&nbsp;&nbsp;&nbsp;&nbsp;&nbsp;&nbsp;&nbsp;&nbsp;&nbsp;<i><u>code to handle other unknown errors</u></i></p>\n",
    "<p>&nbsp;&nbsp;&nbsp;&nbsp;&nbsp;&nbsp;&nbsp;finally:</p>\n",
    "<p>&nbsp;&nbsp;&nbsp;&nbsp;&nbsp;&nbsp;&nbsp;&nbsp;&nbsp;&nbsp;&nbsp;&nbsp;&nbsp;&nbsp;<i><u>optional - code that should be excuted regardless of having or not having an error.</u></i></p>"
   ]
  },
  {
   "cell_type": "markdown",
   "metadata": {},
   "source": [
    "<p><b>Note:</b> Here is the list of common possible type of errors: </p>\n",
    "\n",
    "<ul>\n",
    "    <li><span style='color:red'>SyntaxError</span>: Raised when the parser encounters a syntax error.</li>\n",
    "    <li><span style='color:red'>ZeroDivisionError</span>: Raised when the second argument of a division or modulo operation is zero.</li>\n",
    "    <li><span style='color:red'>NameError</span>: Raised when a local or global name is not found.</li>\n",
    "    <li><span style='color:red'>TypeError</span>: Raised when an operation or function is applied to an object of inappropriate type.</li>\n",
    "    <li><span style='color:red'>ValueError</span>: Raised when an operation or function receives an argument that has the right type but an inappropriate value</li>\n",
    "    <li><span style='color:red'>IOError</span>: Raised when an I/O operation fails for an I/O-related </li>\n",
    "</ul>"
   ]
  },
  {
   "cell_type": "markdown",
   "metadata": {},
   "source": [
    "<p><b>Example</b>: Write a function that devides two numbers. Try to catch all the possible errors.</p> "
   ]
  },
  {
   "cell_type": "code",
   "execution_count": null,
   "metadata": {},
   "outputs": [],
   "source": [
    "# Here is the basic function with no error handler\n",
    "def my_divider(a,b):\n",
    "    return a/b\n",
    "\n",
    "# Let's check the function for a simple case\n",
    "var1 = 10\n",
    "var2 = 3\n",
    "print(my_divider(var1, var2))"
   ]
  },
  {
   "cell_type": "code",
   "execution_count": null,
   "metadata": {},
   "outputs": [],
   "source": [
    "# Let's try for another case that can cause problem for the function and see the result\n",
    "var1 = 10\n",
    "var2 = 0\n",
    "print(my_divider(var1, var2)) # We expect to get an error (ZeroDivisionError) "
   ]
  },
  {
   "cell_type": "code",
   "execution_count": null,
   "metadata": {},
   "outputs": [],
   "source": [
    "# Ok, let's handle this error in our function and return a message to the user\n",
    "def my_divider(a,b):\n",
    "    try:\n",
    "        return a/b\n",
    "    except ZeroDivisionError:\n",
    "        return \"Error: You cannot divide a number by 0\"\n",
    "    \n",
    "var1 = 10\n",
    "var2 = 0\n",
    "print(my_divider(var1, var2))"
   ]
  },
  {
   "cell_type": "code",
   "execution_count": null,
   "metadata": {},
   "outputs": [],
   "source": [
    "# Here is another possible case\n",
    "var1 = 10\n",
    "var2 = '2'\n",
    "print(my_divider(var1, var2)) # We expect to get an error (TypeError)"
   ]
  },
  {
   "cell_type": "code",
   "execution_count": 68,
   "metadata": {},
   "outputs": [
    {
     "name": "stdout",
     "output_type": "stream",
     "text": [
      "5.0\n"
     ]
    }
   ],
   "source": [
    "# Let's handle the TypeError\n",
    "# While the input value represents a number but in a string format, we can change the type\n",
    "def my_divider(a,b):\n",
    "    try:\n",
    "        return a/b\n",
    "    except ZeroDivisionError:\n",
    "        return \"Error: You cannot divide a number by 0\"\n",
    "    except TypeError:\n",
    "        a = float(a)\n",
    "        b = float(b)\n",
    "        return a/b\n",
    "\n",
    "var1 = 10\n",
    "var2 = '2'\n",
    "print(my_divider(var1, var2))"
   ]
  },
  {
   "cell_type": "code",
   "execution_count": 69,
   "metadata": {},
   "outputs": [
    {
     "ename": "ValueError",
     "evalue": "could not convert string to float: 'dog'",
     "output_type": "error",
     "traceback": [
      "\u001b[0;31m---------------------------------------------------------------------------\u001b[0m",
      "\u001b[0;31mTypeError\u001b[0m                                 Traceback (most recent call last)",
      "\u001b[0;32m<ipython-input-68-2d3be21b2534>\u001b[0m in \u001b[0;36mmy_divider\u001b[0;34m(a, b)\u001b[0m\n\u001b[1;32m      4\u001b[0m     \u001b[0;32mtry\u001b[0m\u001b[0;34m:\u001b[0m\u001b[0;34m\u001b[0m\u001b[0;34m\u001b[0m\u001b[0m\n\u001b[0;32m----> 5\u001b[0;31m         \u001b[0;32mreturn\u001b[0m \u001b[0ma\u001b[0m\u001b[0;34m/\u001b[0m\u001b[0mb\u001b[0m\u001b[0;34m\u001b[0m\u001b[0;34m\u001b[0m\u001b[0m\n\u001b[0m\u001b[1;32m      6\u001b[0m     \u001b[0;32mexcept\u001b[0m \u001b[0mZeroDivisionError\u001b[0m\u001b[0;34m:\u001b[0m\u001b[0;34m\u001b[0m\u001b[0;34m\u001b[0m\u001b[0m\n",
      "\u001b[0;31mTypeError\u001b[0m: unsupported operand type(s) for /: 'int' and 'str'",
      "\nDuring handling of the above exception, another exception occurred:\n",
      "\u001b[0;31mValueError\u001b[0m                                Traceback (most recent call last)",
      "\u001b[0;32m<ipython-input-69-0525476086e9>\u001b[0m in \u001b[0;36m<module>\u001b[0;34m\u001b[0m\n\u001b[1;32m      2\u001b[0m \u001b[0mvar1\u001b[0m \u001b[0;34m=\u001b[0m \u001b[0;36m10\u001b[0m\u001b[0;34m\u001b[0m\u001b[0;34m\u001b[0m\u001b[0m\n\u001b[1;32m      3\u001b[0m \u001b[0mvar2\u001b[0m \u001b[0;34m=\u001b[0m \u001b[0;34m'dog'\u001b[0m\u001b[0;34m\u001b[0m\u001b[0;34m\u001b[0m\u001b[0m\n\u001b[0;32m----> 4\u001b[0;31m \u001b[0mprint\u001b[0m\u001b[0;34m(\u001b[0m\u001b[0mmy_divider\u001b[0m\u001b[0;34m(\u001b[0m\u001b[0mvar1\u001b[0m\u001b[0;34m,\u001b[0m \u001b[0mvar2\u001b[0m\u001b[0;34m)\u001b[0m\u001b[0;34m)\u001b[0m \u001b[0;31m# we expect to get an error (ValueError)\u001b[0m\u001b[0;34m\u001b[0m\u001b[0;34m\u001b[0m\u001b[0m\n\u001b[0m",
      "\u001b[0;32m<ipython-input-68-2d3be21b2534>\u001b[0m in \u001b[0;36mmy_divider\u001b[0;34m(a, b)\u001b[0m\n\u001b[1;32m      8\u001b[0m     \u001b[0;32mexcept\u001b[0m \u001b[0mTypeError\u001b[0m\u001b[0;34m:\u001b[0m\u001b[0;34m\u001b[0m\u001b[0;34m\u001b[0m\u001b[0m\n\u001b[1;32m      9\u001b[0m         \u001b[0ma\u001b[0m \u001b[0;34m=\u001b[0m \u001b[0mfloat\u001b[0m\u001b[0;34m(\u001b[0m\u001b[0ma\u001b[0m\u001b[0;34m)\u001b[0m\u001b[0;34m\u001b[0m\u001b[0;34m\u001b[0m\u001b[0m\n\u001b[0;32m---> 10\u001b[0;31m         \u001b[0mb\u001b[0m \u001b[0;34m=\u001b[0m \u001b[0mfloat\u001b[0m\u001b[0;34m(\u001b[0m\u001b[0mb\u001b[0m\u001b[0;34m)\u001b[0m\u001b[0;34m\u001b[0m\u001b[0;34m\u001b[0m\u001b[0m\n\u001b[0m\u001b[1;32m     11\u001b[0m         \u001b[0;32mreturn\u001b[0m \u001b[0ma\u001b[0m\u001b[0;34m/\u001b[0m\u001b[0mb\u001b[0m\u001b[0;34m\u001b[0m\u001b[0;34m\u001b[0m\u001b[0m\n\u001b[1;32m     12\u001b[0m \u001b[0;34m\u001b[0m\u001b[0m\n",
      "\u001b[0;31mValueError\u001b[0m: could not convert string to float: 'dog'"
     ]
    }
   ],
   "source": [
    "# What if the value with type error is not a number\n",
    "var1 = 10\n",
    "var2 = 'dog'\n",
    "print(my_divider(var1, var2)) # we expect to get an error (ValueError) "
   ]
  },
  {
   "cell_type": "markdown",
   "metadata": {},
   "source": [
    "<p><b>Question</b>: How we should handle the above error?</p>"
   ]
  },
  {
   "cell_type": "code",
   "execution_count": null,
   "metadata": {},
   "outputs": [],
   "source": [
    "# Write your code over here"
   ]
  },
  {
   "cell_type": "markdown",
   "metadata": {},
   "source": [
    "<p></p>"
   ]
  },
  {
   "cell_type": "code",
   "execution_count": null,
   "metadata": {},
   "outputs": [],
   "source": [
    "# There could be some other form of errors in our code. Let's also handle those errors.\n",
    "def my_divider(a,b):\n",
    "    try:\n",
    "        return a/b\n",
    "    except ZeroDivisionError:\n",
    "        return \"Error: You cannot divide a number by 0\"\n",
    "    except TypeError:\n",
    "        return \"Error: The type of variable is invalid\"\n",
    "    except:\n",
    "        return \"Error: Unknown error\""
   ]
  },
  {
   "cell_type": "markdown",
   "metadata": {},
   "source": [
    "<p></p>"
   ]
  },
  {
   "cell_type": "code",
   "execution_count": null,
   "metadata": {},
   "outputs": [],
   "source": [
    "# Here is a simple example that shows how to use \"finally\" part of the statement\n",
    "def my_divider(a,b):\n",
    "    try:\n",
    "        result = a/b\n",
    "    except ZeroDivisionError:\n",
    "        result = \"Error: You cannot divide a number by 0\"\n",
    "    except TypeError:\n",
    "        result = \"Error: The type of variable is invalid\"\n",
    "    except:\n",
    "        result = \"Error: Unknown error\"\n",
    "    finally:\n",
    "        return \"Result = {}\".format(result)\n",
    "\n",
    "var1 = 10\n",
    "var2 = 8\n",
    "print(my_divider(var1, var2))    \n",
    "    \n",
    "var1 = 10\n",
    "var2 = 'dog'\n",
    "print(my_divider(var1, var2))"
   ]
  },
  {
   "cell_type": "markdown",
   "metadata": {},
   "source": [
    "### 4.2. Lambdas"
   ]
  },
  {
   "cell_type": "markdown",
   "metadata": {},
   "source": [
    "<p>Lambdas are one line functions. They are also known as anonymous functions. A lambda function can take any number of arguments, but can only have one expression.</p>\n",
    "<p>&nbsp;&nbsp;&nbsp;&nbsp;&nbsp;&nbsp;&nbsp;<i><b>Syntax:</b></i></p>\n",
    "<p>&nbsp;&nbsp;&nbsp;&nbsp;&nbsp;&nbsp;&nbsp;lambda <i>arguments</i> : <i>expression</i></p>"
   ]
  },
  {
   "cell_type": "code",
   "execution_count": null,
   "metadata": {},
   "outputs": [],
   "source": [
    "x = lambda a : a + 10\n",
    "print(\"Output: {}\".format(x(5)))"
   ]
  },
  {
   "cell_type": "code",
   "execution_count": 6,
   "metadata": {},
   "outputs": [
    {
     "name": "stdout",
     "output_type": "stream",
     "text": [
      "Output: 61\n"
     ]
    }
   ],
   "source": [
    "x = lambda a, b : a**2 + b**2  # ** refers to power operation\n",
    "print(\"Output: {}\".format(x(5, 6)))"
   ]
  },
  {
   "cell_type": "code",
   "execution_count": 71,
   "metadata": {},
   "outputs": [
    {
     "name": "stdout",
     "output_type": "stream",
     "text": [
      "16\n"
     ]
    }
   ],
   "source": [
    "def raise_to_power(num, exponent):\n",
    "    power = num ** exponent\n",
    "    print(power)\n",
    "\n",
    "raise_to_power(2, 4)"
   ]
  },
  {
   "cell_type": "code",
   "execution_count": 2,
   "metadata": {},
   "outputs": [],
   "source": [
    "def square_and_qube(num):\n",
    "    square = num ** 2\n",
    "    cube = num ** 3\n",
    "    return square, cube"
   ]
  },
  {
   "cell_type": "markdown",
   "metadata": {},
   "source": [
    "<p><b>Note: </b> The main power of lambda can be shown when you use them as an anonymous function inside another function. </p>"
   ]
  },
  {
   "cell_type": "code",
   "execution_count": 1,
   "metadata": {},
   "outputs": [
    {
     "name": "stdout",
     "output_type": "stream",
     "text": [
      "Here is the output of my_doubler: 44\n",
      "Here is the output of my_tripler: 39\n"
     ]
    }
   ],
   "source": [
    "def my_func(n):\n",
    "    return lambda a : a * n\n",
    "\n",
    "my_doubler = my_func(2) # This creates another function named my_doubler that can be used separately\n",
    "my_tripler = my_func(3) # This creates another function named my_tripler that can be used separately\n",
    "\n",
    "print(\"Here is the output of my_doubler: {}\".format(my_doubler(22)))\n",
    "print(\"Here is the output of my_tripler: {}\".format(my_tripler(13)))"
   ]
  },
  {
   "cell_type": "markdown",
   "metadata": {},
   "source": [
    "### 4.3. Common Built-in String Functions"
   ]
  },
  {
   "cell_type": "markdown",
   "metadata": {},
   "source": [
    "<p>Python provides several built-in functions to manipulate string objects. You can find a complete list of them <a href='https://docs.python.org/3.7/library/string.html'>here</a>.</p> \n",
    "\n",
    "<p>This section shows several common string functions.</p> "
   ]
  },
  {
   "cell_type": "code",
   "execution_count": null,
   "metadata": {},
   "outputs": [],
   "source": [
    "word = \"Data Science\"\n",
    "word.lower() # Return a copy of string, but with upper case letters converted to lower case."
   ]
  },
  {
   "cell_type": "code",
   "execution_count": null,
   "metadata": {},
   "outputs": [],
   "source": [
    "word = \"Data Science\"\n",
    "word.split() # Return a list of the words of the string. By default it uses whitspaces as the seprator"
   ]
  },
  {
   "cell_type": "markdown",
   "metadata": {},
   "source": [
    "<p><b>Question:</b> What if the <i>word</i> was \"Data_Science\" ?</p>  "
   ]
  },
  {
   "cell_type": "code",
   "execution_count": 3,
   "metadata": {},
   "outputs": [
    {
     "data": {
      "text/plain": [
       "['Data', 'Science']"
      ]
     },
     "execution_count": 3,
     "metadata": {},
     "output_type": "execute_result"
    }
   ],
   "source": [
    "word = \"Data Science\"\n",
    "word.split()"
   ]
  },
  {
   "cell_type": "code",
   "execution_count": 4,
   "metadata": {},
   "outputs": [
    {
     "name": "stdout",
     "output_type": "stream",
     "text": [
      "Data Analysis\n"
     ]
    }
   ],
   "source": [
    "# to pefrom concatenation you can use + sign\n",
    "new_word = \"Data\" + \" Analysis\"\n",
    "print(new_word)"
   ]
  },
  {
   "cell_type": "code",
   "execution_count": 5,
   "metadata": {},
   "outputs": [
    {
     "name": "stdout",
     "output_type": "stream",
     "text": [
      "replicate mereplicate mereplicate me\n"
     ]
    }
   ],
   "source": [
    "# to perform replication you can use * sign\n",
    "new_word = \"replicate me\" * 3\n",
    "print(new_word) "
   ]
  },
  {
   "cell_type": "markdown",
   "metadata": {},
   "source": [
    "<p><b>Example:</b> What is the result of the following code?</p>\n",
    "</p>new_number = '1' + '2' </p>\n",
    "\n",
    "<p><b>Example:</b> What is the result of the following code?</p>\n",
    "</p>new_number = '1' * 5 </p>"
   ]
  },
  {
   "cell_type": "code",
   "execution_count": 8,
   "metadata": {},
   "outputs": [
    {
     "name": "stdout",
     "output_type": "stream",
     "text": [
      "11111\n"
     ]
    }
   ],
   "source": [
    "new_number = '1'* 5\n",
    "print(new_number)"
   ]
  },
  {
   "cell_type": "markdown",
   "metadata": {},
   "source": [
    "<p> In order to slice a word, you need to conider it as an array of letters with sequential indices. Here is an example </p>\n",
    "\n",
    "<p>word = \"Data Science\"</p>\n",
    "<br>\n",
    "<div>\n",
    "    <table>\n",
    "        <tr style=\"border: 1px solid black;\">\n",
    "            <td style=\"border: 1px solid black;\">D</td>\n",
    "            <td style=\"border: 1px solid black;\">a</td>\n",
    "            <td style=\"border: 1px solid black;\">t</td>\n",
    "            <td style=\"border: 1px solid black;\">a</td>\n",
    "            <td style=\"border: 1px solid black;\">&nbsp;</td>\n",
    "            <td style=\"border: 1px solid black;\">S</td>\n",
    "            <td style=\"border: 1px solid black;\">c</td>\n",
    "            <td style=\"border: 1px solid black;\">i</td>\n",
    "            <td style=\"border: 1px solid black;\">e</td>\n",
    "            <td style=\"border: 1px solid black;\">n</td>\n",
    "            <td style=\"border: 1px solid black;\" align='center'>c</td>\n",
    "            <td style=\"border: 1px solid black;\" align='center'>e</td>\n",
    "        </tr>\n",
    "        <tr>\n",
    "            <td>0</td>\n",
    "            <td>1</td>\n",
    "            <td>2</td>\n",
    "            <td>3</td>\n",
    "            <td>4</td>\n",
    "            <td>5</td>\n",
    "            <td>6</td>\n",
    "            <td>7</td>\n",
    "            <td>8</td>\n",
    "            <td>9</td>\n",
    "            <td align='center'>10</td>\n",
    "            <td align='center'>11</td>\n",
    "        </tr>\n",
    "    </table>\n",
    "</div>\n",
    "        "
   ]
  },
  {
   "cell_type": "code",
   "execution_count": 22,
   "metadata": {},
   "outputs": [
    {
     "name": "stdout",
     "output_type": "stream",
     "text": [
      "--------Slice 1----------\n",
      "ta Sc\n",
      "--------Slice 2----------\n",
      "Scienc\n"
     ]
    }
   ],
   "source": [
    "# Now, you can test the following codes and compare it with above table\n",
    "word = \"Data Science\"\n",
    "print('--------Slice 1----------')\n",
    "print(word[2:7])\n",
    "print('--------Slice 2----------')\n",
    "print(word[5:11]) # How you can include the letter'e' at the end in this slice?"
   ]
  },
  {
   "cell_type": "code",
   "execution_count": 25,
   "metadata": {},
   "outputs": [
    {
     "name": "stdout",
     "output_type": "stream",
     "text": [
      "Scie\n"
     ]
    }
   ],
   "source": [
    "word = \"Data Science\"\n",
    "#print('-------SLice 1--------')\n",
    "print(word[-7:-3])"
   ]
  },
  {
   "cell_type": "markdown",
   "metadata": {},
   "source": [
    "<p><b>Example:</b> What is the result of the following code?</p>\n",
    "</p>word[ 8 : 20 ]</p>\n",
    "<p><b>Example:</b> What is the result of the following code? Can you explain why?</p>\n",
    "</p>word[ -7 : -3 ]</p>\n",
    "<p><b>Example:</b> What is the result of the following code? </p>\n",
    "</p>word[ -3 : -7 ]</p>"
   ]
  },
  {
   "cell_type": "code",
   "execution_count": null,
   "metadata": {},
   "outputs": [],
   "source": [
    "# test your codes over here"
   ]
  },
  {
   "cell_type": "markdown",
   "metadata": {},
   "source": [
    "<b>Note:</b> You can use <b style=\"color:blue;\">len( )</b> function to count the number of letters in a string "
   ]
  },
  {
   "cell_type": "code",
   "execution_count": 22,
   "metadata": {},
   "outputs": [
    {
     "name": "stdout",
     "output_type": "stream",
     "text": [
      "The above text has 21 letters\n"
     ]
    }
   ],
   "source": [
    "text = \"This is just for test\"\n",
    "print(\"The above text has {} letters\".format(len(text)))"
   ]
  },
  {
   "cell_type": "code",
   "execution_count": 20,
   "metadata": {},
   "outputs": [
    {
     "name": "stdout",
     "output_type": "stream",
     "text": [
      "1   2   3   4   5   6   7   8   9   \n",
      "\n",
      "2   4   6   8   10   12   14   16   18   \n",
      "\n",
      "3   6   9   12   15   18   21   24   27   \n",
      "\n",
      "4   8   12   16   20   24   28   32   36   \n",
      "\n",
      "5   10   15   20   25   30   35   40   45   \n",
      "\n",
      "6   12   18   24   30   36   42   48   54   \n",
      "\n",
      "7   14   21   28   35   42   49   56   63   \n",
      "\n",
      "8   16   24   32   40   48   56   64   72   \n",
      "\n",
      "9   18   27   36   45   54   63   72   81   \n",
      "\n"
     ]
    }
   ],
   "source": [
    "for i in range (1,10):\n",
    "    for j in range(1,10):\n",
    "        print(i*j, end = \"\")\n",
    "    print(\"\\n\")    "
   ]
  },
  {
   "cell_type": "markdown",
   "metadata": {},
   "source": [
    "<b>Note:</b> You can search for a substring inside a text using <b style=\"color:blue;\">find( )</b> and <b style=\"color:blue;\">rfind( )</b> functions.\n",
    "\n",
    "<ul>\n",
    "    <li><b style=\"color:blue;\">find( )</b>: Returns the lowest index in text where the substring is found | Returns -1 on failure</li>\n",
    "    <li><b style=\"color:blue;\">rfind( )</b>: Returns the highest index in text where the substring is found | Returns -1 on failure</li>\n",
    "</ul>"
   ]
  },
  {
   "cell_type": "code",
   "execution_count": 23,
   "metadata": {},
   "outputs": [
    {
     "name": "stdout",
     "output_type": "stream",
     "text": [
      "find function returns 0 and rfind function returns 65\n"
     ]
    }
   ],
   "source": [
    "# Example\n",
    "text = \"data science is a field that allows you to analyze and interpret data\"\n",
    "\n",
    "index1 = text.find('data')\n",
    "index2 = text.rfind('data')\n",
    "\n",
    "print(\"find function returns {} and rfind function returns {}\".format(index1, index2))"
   ]
  },
  {
   "cell_type": "markdown",
   "metadata": {},
   "source": [
    "<b>Note:</b> You can also use the command <b style=\"color:red;\">in</b> to check the existence of a substring in a text. "
   ]
  },
  {
   "cell_type": "code",
   "execution_count": 24,
   "metadata": {},
   "outputs": [
    {
     "data": {
      "text/plain": [
       "True"
      ]
     },
     "execution_count": 24,
     "metadata": {},
     "output_type": "execute_result"
    }
   ],
   "source": [
    "#Example\n",
    "\"data\" in \"data science\""
   ]
  },
  {
   "cell_type": "code",
   "execution_count": 25,
   "metadata": {},
   "outputs": [
    {
     "data": {
      "text/plain": [
       "False"
      ]
     },
     "execution_count": 25,
     "metadata": {},
     "output_type": "execute_result"
    }
   ],
   "source": [
    "\"word\" in \"data science\""
   ]
  },
  {
   "cell_type": "markdown",
   "metadata": {},
   "source": [
    "<p><b>Keep in mind that,</b> most of the string based functions are case sensitive </p>"
   ]
  },
  {
   "cell_type": "markdown",
   "metadata": {},
   "source": [
    "<p><b>Example:</b> Use the <b style=\"color:blue;\">rfind( )</b> function and <b style=\"color:red;\">in</b> command to write a function that count the number of occurences of a word in a text </p>"
   ]
  },
  {
   "cell_type": "code",
   "execution_count": 188,
   "metadata": {},
   "outputs": [],
   "source": [
    "def my_counter(text, word):\n",
    "    count = 0\n",
    "    while word in text:\n",
    "        Counter +=1 \n",
    "        index = rfind(word)\n",
    "        text = text[0:index]\n",
    "        return counter"
   ]
  },
  {
   "cell_type": "markdown",
   "metadata": {},
   "source": [
    "<b>Note:</b> You can convert string objects into <u>int</u> and <u>float</u> using <b style=\"color:blue;\">int( )</b> and <b style=\"color:blue;\">float( )</b> functions."
   ]
  },
  {
   "cell_type": "code",
   "execution_count": 36,
   "metadata": {},
   "outputs": [
    {
     "data": {
      "text/plain": [
       "123"
      ]
     },
     "execution_count": 36,
     "metadata": {},
     "output_type": "execute_result"
    }
   ],
   "source": [
    "# Example 1\n",
    "num_str = '123'\n",
    "int(num_str) "
   ]
  },
  {
   "cell_type": "code",
   "execution_count": 37,
   "metadata": {},
   "outputs": [
    {
     "data": {
      "text/plain": [
       "123.0"
      ]
     },
     "execution_count": 37,
     "metadata": {},
     "output_type": "execute_result"
    }
   ],
   "source": [
    "# Example 2\n",
    "float(num_str)"
   ]
  },
  {
   "cell_type": "code",
   "execution_count": 52,
   "metadata": {},
   "outputs": [
    {
     "name": "stdout",
     "output_type": "stream",
     "text": [
      "2\n"
     ]
    }
   ],
   "source": [
    "numbers = \"23456\"     \n",
    "\n",
    "min_Num = numbers[0]\n",
    "\n",
    "for i in range(1,len(numbers)):\n",
    "    if min_Num > numbers[i]:\n",
    "        min_Num = numbers[i]\n",
    "        \n",
    "print(min_Num)"
   ]
  },
  {
   "cell_type": "markdown",
   "metadata": {},
   "source": [
    "<p><b>Example:</b> Complete the follwing code to get the result of <b>250.8</b> in the output.</p>"
   ]
  },
  {
   "cell_type": "code",
   "execution_count": 1,
   "metadata": {},
   "outputs": [
    {
     "data": {
      "text/plain": [
       "250.8"
      ]
     },
     "execution_count": 1,
     "metadata": {},
     "output_type": "execute_result"
    }
   ],
   "source": [
    "num_str1 = '125.7'\n",
    "num_str2 = '125.1'\n",
    "float(num_str1) + float(num_str2)"
   ]
  },
  {
   "cell_type": "markdown",
   "metadata": {},
   "source": [
    "<p><b>Example:</b> Complete the follwing code to get the result of <b>'1122'</b> in the output.</p>"
   ]
  },
  {
   "cell_type": "code",
   "execution_count": 38,
   "metadata": {},
   "outputs": [
    {
     "data": {
      "text/plain": [
       "'1122'"
      ]
     },
     "execution_count": 38,
     "metadata": {},
     "output_type": "execute_result"
    }
   ],
   "source": [
    "num1 = 11\n",
    "num2 = 22\n",
    "str(num1) + str(num2)\n",
    "# Complete the code"
   ]
  },
  {
   "cell_type": "markdown",
   "metadata": {},
   "source": [
    "<b>Note:</b> We already used <b style=\"color:blue;\">format( )</b> function. But let's learn more about it. It takes string and an arbitrary set of positional and keyword arguments and puts them together"
   ]
  },
  {
   "cell_type": "code",
   "execution_count": 184,
   "metadata": {},
   "outputs": [
    {
     "name": "stdout",
     "output_type": "stream",
     "text": [
      "What is your name? john\n",
      "Hello john\n"
     ]
    }
   ],
   "source": [
    "# Example - with input function\n",
    "text_str = \"Hello {}\"\n",
    "your_name = input('What is your name? ')\n",
    "new_text_str = text_str.format(your_name)\n",
    "print(new_text_str)"
   ]
  },
  {
   "cell_type": "code",
   "execution_count": 185,
   "metadata": {},
   "outputs": [
    {
     "name": "stdout",
     "output_type": "stream",
     "text": [
      "What is your gender? 56\n",
      "What is your age? 5\n",
      "john is a 56 and has 5 years old\n"
     ]
    }
   ],
   "source": [
    "your_gender = input('What is your gender? ')\n",
    "your_age = input('What is your age? ')\n",
    "new_text_str2 = \"{2} is a {0} and has {1} years old\".format(your_gender, your_age, your_name) \n",
    "print(new_text_str2)"
   ]
  },
  {
   "cell_type": "markdown",
   "metadata": {},
   "source": [
    "<p><b>Example:</b> Write a loop in the following format:</p>\n",
    "<ul>\n",
    "    <li> In the first iteration the system should ask the user to input her/his name and prints \"Hi <i>name</i>\"</li>\n",
    "    <li> Then, it should ask the user whether he or she wants to continue?</li>\n",
    "    <li> If the user inputs \"Yes\", then the system should ask for her/his name again and prints \"Hi <i>name</i>\".</li>\n",
    "    <li> If the user inputs \"No\" , then the system should stop</li>\n",
    "    <li> If the user inputs anything other than \"Yes\" or \"No\", then the system should print an error message</li>\n",
    "</ul>"
   ]
  },
  {
   "cell_type": "code",
   "execution_count": null,
   "metadata": {},
   "outputs": [],
   "source": [
    "your_name = input('Type in your name')\n",
    "next_1 = input('Do you want to continue?(Y/N)')\n",
    "while next_1 == Y:\n",
    "    your_name = input('Type in your name')\n",
    "    next_1 = input('Do you want to continue?(Y/N)')\n",
    "if next_1 != Y and next_1 != N:\n",
    "    print('Error: Only enter \"Y\" or \"N\"')"
   ]
  },
  {
   "cell_type": "markdown",
   "metadata": {},
   "source": [
    "<p><b>Advanced topic:</b> It is also good to know about <span style=\"color:blue;\">Generators</span> in Python. You can find additional information <a href=\"https://www.programiz.com/python-programming/generator\">here</a></p>"
   ]
  },
  {
   "cell_type": "markdown",
   "metadata": {},
   "source": [
    "## 5. Lists"
   ]
  },
  {
   "cell_type": "markdown",
   "metadata": {},
   "source": [
    "<p>A list is a collection which is ordered, changeable and resizable. In Python lists are written with square brackets.</p>\n",
    "<p><b>Note: </b>List is simmilar to array in Java programming.</p>"
   ]
  },
  {
   "cell_type": "code",
   "execution_count": 42,
   "metadata": {},
   "outputs": [
    {
     "data": {
      "text/plain": [
       "'orange'"
      ]
     },
     "execution_count": 42,
     "metadata": {},
     "output_type": "execute_result"
    }
   ],
   "source": [
    "# Here are some examples\n",
    "fruit_list = [\"apple\",\"orange\",\"banana\",\"kiwi\"]\n",
    "fruit_list[1]"
   ]
  },
  {
   "cell_type": "markdown",
   "metadata": {},
   "source": [
    "<b>Note:</b> If access the list with an index out of the range then you will get an error message."
   ]
  },
  {
   "cell_type": "code",
   "execution_count": null,
   "metadata": {},
   "outputs": [],
   "source": [
    "# Example\n",
    "fruit_list[4]"
   ]
  },
  {
   "cell_type": "markdown",
   "metadata": {},
   "source": [
    "<b>Note:</b> You can also define a list in the following manner:"
   ]
  },
  {
   "cell_type": "code",
   "execution_count": 43,
   "metadata": {},
   "outputs": [
    {
     "name": "stdout",
     "output_type": "stream",
     "text": [
      "[11, 22, 33]\n"
     ]
    }
   ],
   "source": [
    "number_list = list((11, 22, 33)) # list constructor\n",
    "print(number_list)"
   ]
  },
  {
   "cell_type": "markdown",
   "metadata": {},
   "source": [
    " <p><b>Note: </b> Indices can be used to <u>change</u> the values in a list. </p>"
   ]
  },
  {
   "cell_type": "code",
   "execution_count": 44,
   "metadata": {},
   "outputs": [
    {
     "name": "stdout",
     "output_type": "stream",
     "text": [
      "['apple', 'orange', 'banana', 'strawberry']\n"
     ]
    }
   ],
   "source": [
    "fruit_list[3] = \"strawberry\"\n",
    "print(fruit_list)"
   ]
  },
  {
   "cell_type": "markdown",
   "metadata": {},
   "source": [
    " <p><b>Note: </b> In order to <u>add</u> an item to the end of the list you need to use the <b style=\"color:blue;\">append( )</b> function. </p>"
   ]
  },
  {
   "cell_type": "code",
   "execution_count": 45,
   "metadata": {},
   "outputs": [
    {
     "name": "stdout",
     "output_type": "stream",
     "text": [
      "['apple', 'orange', 'banana', 'strawberry', 'pomegranate']\n"
     ]
    }
   ],
   "source": [
    "fruit_list.append(\"pomegranate\")\n",
    "print(fruit_list)"
   ]
  },
  {
   "cell_type": "markdown",
   "metadata": {},
   "source": [
    " <p><b>Note: </b> In order to <u>insert</u> an item in the middle of the list you need to use the <b style=\"color:blue;\">insert( )</b> function. </p>"
   ]
  },
  {
   "cell_type": "code",
   "execution_count": 46,
   "metadata": {},
   "outputs": [
    {
     "name": "stdout",
     "output_type": "stream",
     "text": [
      "['apple', 'orange', 'pear', 'banana', 'strawberry', 'pomegranate']\n"
     ]
    }
   ],
   "source": [
    "# This code inserts pear to the index = 2 and shifts the remaining items \n",
    "fruit_list.insert(2,\"pear\")  \n",
    "print(fruit_list)"
   ]
  },
  {
   "cell_type": "markdown",
   "metadata": {},
   "source": [
    " <p><b>Note: </b> To <u>delete</u> an item from the list, you have the following options:</p>\n",
    " <ul>\n",
    "    <li><b style=\"color:blue;\">pop( )</b> - This method removes the specified index (or the last item if index is not specified) from the list and <u>returns</u> it</li>\n",
    "    <li><b style=\"color:blue;\">remove( )</b> - This method removes the specified item</li>\n",
    "    <li><b style=\"color:blue;\">clear( )</b> - This method method empties the list</li>\n",
    "    <li><b style=\"color:blue;\">del </b> - This <u>keyword</u> can remove the specified index or can delete the whole list </li>\n",
    " </ul>\n",
    "    "
   ]
  },
  {
   "cell_type": "code",
   "execution_count": 47,
   "metadata": {},
   "outputs": [
    {
     "data": {
      "text/plain": [
       "'pomegranate'"
      ]
     },
     "execution_count": 47,
     "metadata": {},
     "output_type": "execute_result"
    }
   ],
   "source": [
    "fruit_list.pop( ) # This code deletes 'pomegranate' from the end of the fruit_list and returns it "
   ]
  },
  {
   "cell_type": "code",
   "execution_count": 48,
   "metadata": {},
   "outputs": [
    {
     "name": "stdout",
     "output_type": "stream",
     "text": [
      "['apple', 'orange', 'pear', 'banana', 'strawberry']\n"
     ]
    }
   ],
   "source": [
    "print(fruit_list)"
   ]
  },
  {
   "cell_type": "code",
   "execution_count": 49,
   "metadata": {},
   "outputs": [
    {
     "data": {
      "text/plain": [
       "'orange'"
      ]
     },
     "execution_count": 49,
     "metadata": {},
     "output_type": "execute_result"
    }
   ],
   "source": [
    "# You can also specify the index that you want to remove its associated value\n",
    "fruit_list.pop(1)"
   ]
  },
  {
   "cell_type": "code",
   "execution_count": 51,
   "metadata": {},
   "outputs": [
    {
     "name": "stdout",
     "output_type": "stream",
     "text": [
      "['apple', 'banana', 'strawberry']\n"
     ]
    }
   ],
   "source": [
    "print(fruit_list)"
   ]
  },
  {
   "cell_type": "code",
   "execution_count": 50,
   "metadata": {},
   "outputs": [
    {
     "name": "stdout",
     "output_type": "stream",
     "text": [
      "['apple', 'banana', 'strawberry']\n"
     ]
    }
   ],
   "source": [
    "# Let's check the remove() function\n",
    "fruit_list.remove('pear')  # Notice that you need to specify the item not the index\n",
    "print(fruit_list)"
   ]
  },
  {
   "cell_type": "code",
   "execution_count": 52,
   "metadata": {},
   "outputs": [
    {
     "name": "stdout",
     "output_type": "stream",
     "text": [
      "[]\n"
     ]
    }
   ],
   "source": [
    "# Let's check the clear() function on the number_list\n",
    "number_list.clear()\n",
    "print(number_list)"
   ]
  },
  {
   "cell_type": "code",
   "execution_count": 53,
   "metadata": {},
   "outputs": [
    {
     "name": "stdout",
     "output_type": "stream",
     "text": [
      "['apple', 'strawberry']\n"
     ]
    }
   ],
   "source": [
    "# Finally, let's try the del keyword\n",
    "del fruit_list[1]\n",
    "print(fruit_list)"
   ]
  },
  {
   "cell_type": "code",
   "execution_count": null,
   "metadata": {},
   "outputs": [],
   "source": [
    "del fruit_list\n",
    "print(fruit_list)  # Provious line of code completely delete the fruit_list object. \n",
    "                   # Therefore, you cannot print the fruit_list "
   ]
  },
  {
   "cell_type": "markdown",
   "metadata": {},
   "source": [
    "<p><b>Note: </b> you can iterate through values of a list.</p>"
   ]
  },
  {
   "cell_type": "code",
   "execution_count": 203,
   "metadata": {},
   "outputs": [
    {
     "name": "stdout",
     "output_type": "stream",
     "text": [
      "apple\n",
      "orange\n",
      "banana\n",
      "kiwi\n"
     ]
    }
   ],
   "source": [
    "fruit_list = [\"apple\",\"orange\",\"banana\",\"kiwi\"]\n",
    "for fruit in fruit_list:\n",
    "    print(fruit) "
   ]
  },
  {
   "cell_type": "code",
   "execution_count": 204,
   "metadata": {},
   "outputs": [
    {
     "name": "stdout",
     "output_type": "stream",
     "text": [
      "apple\n",
      "orange\n",
      "banana\n",
      "kiwi\n"
     ]
    }
   ],
   "source": [
    "for i in range(len(fruit_list)):\n",
    "    print(fruit_list[i])"
   ]
  },
  {
   "cell_type": "markdown",
   "metadata": {},
   "source": [
    "<p><b>Note: </b> <b style=\"color:blue;\"> sort( ) </b> function can be used to sort the elements inside a list. This function mutates the list.</p>"
   ]
  },
  {
   "cell_type": "code",
   "execution_count": 55,
   "metadata": {},
   "outputs": [
    {
     "name": "stdout",
     "output_type": "stream",
     "text": [
      "['apple', 'strawberry']\n"
     ]
    }
   ],
   "source": [
    "fruit_list.sort()\n",
    "print(fruit_list)"
   ]
  },
  {
   "cell_type": "code",
   "execution_count": null,
   "metadata": {},
   "outputs": [],
   "source": [
    "# You can also sort the elements in a reverse format\n",
    "fruit_list.sort(reverse = True)\n",
    "print(fruit_list)"
   ]
  },
  {
   "cell_type": "markdown",
   "metadata": {},
   "source": [
    "<p><b>Note: </b> <b style=\"color:blue;\"> reverse( ) </b> function can be used to reverse the elements of a list. This function mutates the list.</p>"
   ]
  },
  {
   "cell_type": "code",
   "execution_count": 26,
   "metadata": {},
   "outputs": [
    {
     "name": "stdout",
     "output_type": "stream",
     "text": [
      "['kiwi', 'banana', 'orange', 'apple']\n"
     ]
    }
   ],
   "source": [
    "fruit_list = [\"apple\",\"orange\",\"banana\",\"kiwi\"]\n",
    "fruit_list.reverse()\n",
    "print(fruit_list)"
   ]
  },
  {
   "cell_type": "markdown",
   "metadata": {},
   "source": [
    "<p><b>Note: </b> <b style=\"color:blue;\"> extend( ) </b> function can be used to attach a new list to the end of the original list.</p>"
   ]
  },
  {
   "cell_type": "code",
   "execution_count": null,
   "metadata": {},
   "outputs": [],
   "source": [
    "fruit_list1 = [\"apple\",\"orange\",\"banana\",\"kiwi\"]\n",
    "fruit_list2 = [\"strawberry\",\"apple\",\"pineapple\",\"cherry\"]\n",
    "fruit_list1.extend(fruit_list2)\n",
    "print(fruit_list1)"
   ]
  },
  {
   "cell_type": "markdown",
   "metadata": {},
   "source": [
    "<p><b>Note: </b> You need to distinguish between <b style=\"color:blue;\"> extend( ) </b> and <b style=\"color:blue;\"> append( ) </b> functions.</p>"
   ]
  },
  {
   "cell_type": "code",
   "execution_count": 57,
   "metadata": {},
   "outputs": [
    {
     "name": "stdout",
     "output_type": "stream",
     "text": [
      "[44, 55, 66, 11, 22, 33]\n"
     ]
    }
   ],
   "source": [
    "number_list1 = [11,22,33]\n",
    "number_list2 = [44,55,66]\n",
    "number_list2.extend(number_list1)\n",
    "print(number_list2)"
   ]
  },
  {
   "cell_type": "code",
   "execution_count": 58,
   "metadata": {},
   "outputs": [
    {
     "name": "stdout",
     "output_type": "stream",
     "text": [
      "[44, 55, 66, [11, 22, 33]]\n"
     ]
    }
   ],
   "source": [
    "number_list1 = [11,22,33]\n",
    "number_list2 = [44,55,66]\n",
    "number_list2.append(number_list1)\n",
    "print(number_list2)"
   ]
  },
  {
   "cell_type": "markdown",
   "metadata": {},
   "source": [
    "<p><b>Note: </b> You can also concatenate two lists by using <b style=\"color:blue;\"> + </b>sign</p>"
   ]
  },
  {
   "cell_type": "code",
   "execution_count": 205,
   "metadata": {},
   "outputs": [
    {
     "name": "stdout",
     "output_type": "stream",
     "text": [
      "[44, 55, 66, 11, 22, 33]\n"
     ]
    }
   ],
   "source": [
    "number_list1 = [11,22,33]\n",
    "number_list2 = [44,55,66]\n",
    "number_list2 += number_list1\n",
    "print(number_list2)"
   ]
  },
  {
   "cell_type": "markdown",
   "metadata": {},
   "source": [
    "<p><b>Note: </b> You can unpack lists by assigning lists to a sequence of variables. (Number of variables in sequence should be equal to number of items in the list)</p>"
   ]
  },
  {
   "cell_type": "code",
   "execution_count": 60,
   "metadata": {},
   "outputs": [
    {
     "name": "stdout",
     "output_type": "stream",
     "text": [
      "ball\n",
      "True\n"
     ]
    }
   ],
   "source": [
    "x, y, z, a, b = ['ball', 2.5, True, 12, 'science']\n",
    "print(x)\n",
    "print(z)"
   ]
  },
  {
   "cell_type": "markdown",
   "metadata": {},
   "source": [
    "<p><b>Note: </b> <b style=\"color:blue;\"> zip( ) </b> is a useful function when we want to work with two lists at the same time.</p>"
   ]
  },
  {
   "cell_type": "code",
   "execution_count": 61,
   "metadata": {},
   "outputs": [
    {
     "name": "stdout",
     "output_type": "stream",
     "text": [
      "11 ,  44\n",
      "22 ,  55\n",
      "33 ,  66\n"
     ]
    }
   ],
   "source": [
    "number_list1 = [11,22,33]\n",
    "number_list2 = [44,55,66]\n",
    "for var1, var2 in zip(number_list1, number_list2):\n",
    "    print(var1, \", \", var2)"
   ]
  },
  {
   "cell_type": "markdown",
   "metadata": {},
   "source": [
    "<p><b>Example:</b> What do you expect as an output in the following code?</p>\n",
    "<div> x = [1,2,3] </div>\n",
    "<div> y = x </div>\n",
    "<div> x[0] = 14 </div>\n",
    "<div> print(y) </div>"
   ]
  },
  {
   "cell_type": "code",
   "execution_count": 62,
   "metadata": {},
   "outputs": [
    {
     "name": "stdout",
     "output_type": "stream",
     "text": [
      "[14, 2, 3]\n"
     ]
    }
   ],
   "source": [
    "x = [1,2,3]\n",
    "y = x\n",
    "x[0] = 14\n",
    "print(y)"
   ]
  },
  {
   "cell_type": "markdown",
   "metadata": {},
   "source": [
    "<p><b>Question:</b> How <b style=\"color:blue;\"> copy( ) </b> function can be used to change the output of the last example?</p>\n",
    "\n"
   ]
  },
  {
   "cell_type": "code",
   "execution_count": null,
   "metadata": {},
   "outputs": [],
   "source": [
    "# Write the code over here"
   ]
  },
  {
   "cell_type": "markdown",
   "metadata": {},
   "source": [
    "<p> <b>Note: </b> Be aware that if you pass a list to a function and modify the list within that function, then your original list will be modifed as well even if you don't return it (that won't happen with variables). You can use <b style=\"color:blue;\"> copy( ) </b> to handle this issue.</p> "
   ]
  },
  {
   "cell_type": "code",
   "execution_count": 66,
   "metadata": {},
   "outputs": [
    {
     "name": "stdout",
     "output_type": "stream",
     "text": [
      "[1, 2, 3, 4]\n"
     ]
    }
   ],
   "source": [
    "def my_list_doubler(my_list):\n",
    "    for i in range(0,len(my_list)):\n",
    "        my_list[i] = my_list[i] * 2\n",
    "    \n",
    "a_list = [1, 2, 3, 4]\n",
    "my_list_doubler(a_list[:])\n",
    "print(a_list)"
   ]
  },
  {
   "cell_type": "code",
   "execution_count": 5,
   "metadata": {},
   "outputs": [
    {
     "name": "stdout",
     "output_type": "stream",
     "text": [
      "[1, 2, 3, 4]\n"
     ]
    }
   ],
   "source": [
    "def my_list_doubler(my_list):\n",
    "    for i in range(0,len(my_list)):\n",
    "        my_list[i] = my_list[i] * 2\n",
    "        \n",
    "my_list = [1, 2, 3, 4]\n",
    "my_list_doubler(my_list)\n",
    "print(my_list)"
   ]
  },
  {
   "cell_type": "markdown",
   "metadata": {},
   "source": [
    "<p> <b>Note:</b> You can also copy a list by cloning it in the following format:</p> \n",
    "\n",
    "<p> new_list = a_list[ : ]</p>\n",
    "\n",
    "<p> That can be used to solve the issue in the last example.</p>"
   ]
  },
  {
   "cell_type": "code",
   "execution_count": 65,
   "metadata": {},
   "outputs": [
    {
     "name": "stdout",
     "output_type": "stream",
     "text": [
      "[1, 2, 3, 4]\n"
     ]
    }
   ],
   "source": [
    "def my_list_doubler(my_list):\n",
    "    for i in range(0,len(my_list)):\n",
    "        my_list[i] = my_list[i] * 2\n",
    "    \n",
    "a_list = [1, 2, 3, 4]\n",
    "my_list_doubler(a_list[:])\n",
    "print(a_list)"
   ]
  },
  {
   "cell_type": "code",
   "execution_count": 69,
   "metadata": {},
   "outputs": [
    {
     "name": "stdout",
     "output_type": "stream",
     "text": [
      "10\n"
     ]
    }
   ],
   "source": [
    "def my_var_doubler(my_var):\n",
    "    my_var = my_var * 2\n",
    "    #print(my_var)\n",
    "    \n",
    "a_var = 10\n",
    "my_var_doubler(a_var)\n",
    "print(a_var)"
   ]
  },
  {
   "cell_type": "markdown",
   "metadata": {},
   "source": [
    "<p><b>Note:</b> Comprehension can also be used for generating lists. List comprehensions provide a concise way to create lists. They allow sequences to be built from other sequences</p>"
   ]
  },
  {
   "cell_type": "code",
   "execution_count": 70,
   "metadata": {},
   "outputs": [
    {
     "name": "stdout",
     "output_type": "stream",
     "text": [
      "Result of my_new_list1: \n",
      "[1, 4, 9, 16, 25, 36, 49, 64, 81]\n",
      "\n",
      "---------------------------------\n",
      "\n",
      "Result of my_new_list2: \n",
      "[100, 144, 529]\n"
     ]
    }
   ],
   "source": [
    "# Example of comprehensions\n",
    "my_new_list1 = [e**2 for e in range(1,10)]\n",
    "print(\"Result of my_new_list1: \\n{}\".format(my_new_list1))\n",
    "\n",
    "print(\"\\n---------------------------------\\n\")\n",
    "\n",
    "original_list = [10, 'a' , 'b' , 12 , True, 23]\n",
    "my_new_list2 = [e**2 for e in original_list if type(e)==int]\n",
    "print(\"Result of my_new_list2: \\n{}\".format(my_new_list2))"
   ]
  },
  {
   "cell_type": "markdown",
   "metadata": {},
   "source": [
    "## 6. Tuples"
   ]
  },
  {
   "cell_type": "markdown",
   "metadata": {},
   "source": [
    "<p>A tuple is a sequence of <u>immutable</u> Python objects. Tuples are sequences, just like lists. The differences between tuples and lists are, the tuples <u>cannot be changed</u> unlike lists and tuples use parentheses, whereas lists use square brackets.</p>\n",
    "<p><b>Note: </b> Usually tuples are used to put related set of data together.</p>"
   ]
  },
  {
   "cell_type": "code",
   "execution_count": 74,
   "metadata": {},
   "outputs": [],
   "source": [
    "# Here are some examples of how you can define tuples\n",
    "sample_tuple1 = (\"Honda\", \"Civic\", 4, 2009 )\n",
    "sample_tuple2 = (1 ,2 , 3 ,4 , 5, 6)\n",
    "sample_tuple3 = tuple([1,\"a\", 2, \"b\"])\n",
    "sample_tuple4 = \"a\", \"b\", \"c\", \"d\""
   ]
  },
  {
   "cell_type": "code",
   "execution_count": 75,
   "metadata": {},
   "outputs": [
    {
     "data": {
      "text/plain": [
       "tuple"
      ]
     },
     "execution_count": 75,
     "metadata": {},
     "output_type": "execute_result"
    }
   ],
   "source": [
    "type(sample_tuple4)"
   ]
  },
  {
   "cell_type": "code",
   "execution_count": 76,
   "metadata": {},
   "outputs": [
    {
     "name": "stdout",
     "output_type": "stream",
     "text": [
      "('a', 'b', 'c', 'd')\n"
     ]
    }
   ],
   "source": [
    "print(sample_tuple4)"
   ]
  },
  {
   "cell_type": "code",
   "execution_count": 71,
   "metadata": {},
   "outputs": [
    {
     "data": {
      "text/plain": [
       "tuple"
      ]
     },
     "execution_count": 71,
     "metadata": {},
     "output_type": "execute_result"
    }
   ],
   "source": [
    "# Example of a tuple with one element\n",
    "single_element_tuple = (\"test\",)\n",
    "type(single_element_tuple)"
   ]
  },
  {
   "cell_type": "markdown",
   "metadata": {},
   "source": [
    "<p><b>Note: </b> You can join two tuples and create a new tuple.</p>"
   ]
  },
  {
   "cell_type": "code",
   "execution_count": 77,
   "metadata": {},
   "outputs": [
    {
     "name": "stdout",
     "output_type": "stream",
     "text": [
      "('Honda', 'Civic', 4, 2009, 1, 2, 3, 4, 5, 6)\n"
     ]
    }
   ],
   "source": [
    "new_tuple = sample_tuple1 + sample_tuple2\n",
    "print(new_tuple)"
   ]
  },
  {
   "cell_type": "markdown",
   "metadata": {},
   "source": [
    "<p><b>Note: </b> You cannot change or update values in tuples.</p>"
   ]
  },
  {
   "cell_type": "code",
   "execution_count": null,
   "metadata": {},
   "outputs": [],
   "source": [
    "sample_tuple2[2] = 10 # This causes an error"
   ]
  },
  {
   "cell_type": "markdown",
   "metadata": {},
   "source": [
    "<p><b>Note: </b> Tuples are coveniently used to <b>swap</b> variable values.</p>"
   ]
  },
  {
   "cell_type": "code",
   "execution_count": 78,
   "metadata": {},
   "outputs": [
    {
     "name": "stdout",
     "output_type": "stream",
     "text": [
      "x = 25\n",
      "y = 10\n"
     ]
    }
   ],
   "source": [
    "x = 10\n",
    "y = 25\n",
    "(x, y) = (y, x)\n",
    "\n",
    "print(\"x = {}\".format(x))\n",
    "print(\"y = {}\".format(y))"
   ]
  },
  {
   "cell_type": "markdown",
   "metadata": {},
   "source": [
    "<p><b>Note: </b> Tuples can be used to return more than one value from a function.</p>"
   ]
  },
  {
   "cell_type": "markdown",
   "metadata": {},
   "source": [
    "<p><b>Example: </b> Write a function that returns both <u>min</u> and <u>max</u> values of a list with integer values.</p>"
   ]
  },
  {
   "cell_type": "code",
   "execution_count": null,
   "metadata": {},
   "outputs": [],
   "source": [
    "def my_min_max(a_list):\n",
    "    min_value = a_list[0] # put an inital value for min_value\n",
    "    max_value = a_list[0] # put an inital value for max_value\n",
    "    \n",
    "    #find min\n",
    "    for x in a_list:\n",
    "        if x < min_value:\n",
    "            min_value = x\n",
    "    \n",
    "    #find max\n",
    "    for y in a_list:\n",
    "        if y > max_value:\n",
    "            max_value = y\n",
    "            \n",
    "    return (min_value, max_value)\n",
    "\n",
    "my_list = [11,10,8,7,17,22,13,9,21,14,7]\n",
    "my_min, my_max =  my_min_max(my_list)\n",
    "print(\"min is {} and max is {}\".format(my_min, my_max))"
   ]
  },
  {
   "cell_type": "code",
   "execution_count": null,
   "metadata": {},
   "outputs": [],
   "source": [
    "def my_min_max(a_list):\n",
    "    min_value = a_list[0]\n",
    "    max_value = a_list[0]\n",
    "    \n",
    "    for x in a_list:\n",
    "        if x < min_value:\n",
    "            min_value = x\n",
    "    for y in a_list:\n",
    "        if y > max_value:\n",
    "            max_value = y\n",
    "            \n",
    "    \n",
    "        "
   ]
  },
  {
   "cell_type": "markdown",
   "metadata": {},
   "source": [
    "## 7. Dictionary"
   ]
  },
  {
   "cell_type": "markdown",
   "metadata": {},
   "source": [
    "<p>A dictionary is a collection which is <u>unordered</u>, changeable and indexed. In Python dictionaries are written with curly brackets, and they have keys and values. </p>\n",
    "<p> Keys are <u>unique</u> within a dictionary while values may not be. The values of a dictionary can be of any type, but the <u>keys must be of an immutable data type</u> such as strings, numbers, or tuples.</p>"
   ]
  },
  {
   "cell_type": "code",
   "execution_count": 144,
   "metadata": {},
   "outputs": [
    {
     "name": "stdout",
     "output_type": "stream",
     "text": [
      "John\n",
      "['computer games', 'football']\n",
      "3.3\n"
     ]
    }
   ],
   "source": [
    "sample_dict1 = {\n",
    "    'fname':'John',\n",
    "    'lname':'smith',\n",
    "    'age':25,\n",
    "    'interets':['computer games','football'],\n",
    "    ('GPA','highschool'): 3.3\n",
    "}\n",
    "\n",
    "print(sample_dict1['fname'])\n",
    "print(sample_dict1['interets'])\n",
    "print(sample_dict1[('GPA','highschool')])"
   ]
  },
  {
   "cell_type": "markdown",
   "metadata": {},
   "source": [
    "<p><b>Note: </b> You cannot use numeric indices to access to values in a dictionary. why?</p>"
   ]
  },
  {
   "cell_type": "code",
   "execution_count": null,
   "metadata": {},
   "outputs": [],
   "source": [
    "sample_dict1[1] # This causes an error"
   ]
  },
  {
   "cell_type": "markdown",
   "metadata": {},
   "source": [
    "<p><b>Note:</b> You can easily add new keys and values to a dictionary. </p> "
   ]
  },
  {
   "cell_type": "code",
   "execution_count": 145,
   "metadata": {},
   "outputs": [
    {
     "name": "stdout",
     "output_type": "stream",
     "text": [
      "{'fname': 'John', 'lname': 'smith', 'age': 25, 'interets': ['computer games', 'football'], ('GPA', 'highschool'): 3.3, 'new_key': 'new_value'}\n"
     ]
    }
   ],
   "source": [
    "sample_dict1['new_key'] = 'new_value'\n",
    "print(sample_dict1)"
   ]
  },
  {
   "cell_type": "code",
   "execution_count": 146,
   "metadata": {},
   "outputs": [
    {
     "name": "stdout",
     "output_type": "stream",
     "text": [
      "{'fname': 'John', 'lname': 'smith', 'age': 25, 'interets': ['computer games', 'football'], ('GPA', 'highschool'): 3.3, 'new_key': 'new_value', 0: 'new_value2'}\n"
     ]
    }
   ],
   "source": [
    "sample_dict1[0] = 'new_value2' # Keep in mind that that 0 does not refer to a numeric index\n",
    "print(sample_dict1)"
   ]
  },
  {
   "cell_type": "markdown",
   "metadata": {},
   "source": [
    "<p><b>Note:</b> If you use a key that is not in specified in a dictionary, you will get an error message. In order to resolve this issue you can use the <b style=\"color:blue;\">get( )</b> function </p> "
   ]
  },
  {
   "cell_type": "code",
   "execution_count": 85,
   "metadata": {},
   "outputs": [],
   "source": [
    "#print(sample_dict1['test_key'])"
   ]
  },
  {
   "cell_type": "code",
   "execution_count": 147,
   "metadata": {},
   "outputs": [
    {
     "name": "stdout",
     "output_type": "stream",
     "text": [
      "None\n"
     ]
    }
   ],
   "source": [
    "print(sample_dict1.get('test_key'))"
   ]
  },
  {
   "cell_type": "markdown",
   "metadata": {},
   "source": [
    "<p><b>Note:</b> To delete from a dictionary you can use:\n",
    "    <ul>\n",
    "        <li><b style=\"color:blue;\">del</b> keyword</li>\n",
    "        <li><b style=\"color:blue;\">pop( )</b> function</li>\n",
    "    </ul>\n",
    "</p>"
   ]
  },
  {
   "cell_type": "code",
   "execution_count": 148,
   "metadata": {},
   "outputs": [
    {
     "name": "stdout",
     "output_type": "stream",
     "text": [
      "{'fname': 'John', 'lname': 'smith', 'age': 25, 'interets': ['computer games', 'football'], ('GPA', 'highschool'): 3.3, 0: 'new_value2'}\n"
     ]
    }
   ],
   "source": [
    "del sample_dict1['new_key']\n",
    "print(sample_dict1)"
   ]
  },
  {
   "cell_type": "code",
   "execution_count": 149,
   "metadata": {},
   "outputs": [
    {
     "data": {
      "text/plain": [
       "25"
      ]
     },
     "execution_count": 149,
     "metadata": {},
     "output_type": "execute_result"
    }
   ],
   "source": [
    "sample_dict1.pop('age')"
   ]
  },
  {
   "cell_type": "code",
   "execution_count": 150,
   "metadata": {},
   "outputs": [
    {
     "name": "stdout",
     "output_type": "stream",
     "text": [
      "{'fname': 'John', 'lname': 'smith', 'interets': ['computer games', 'football'], ('GPA', 'highschool'): 3.3, 0: 'new_value2'}\n"
     ]
    }
   ],
   "source": [
    "print(sample_dict1)"
   ]
  },
  {
   "cell_type": "markdown",
   "metadata": {},
   "source": [
    "<p><b>Note:</b> Similar to lists and tuples, you can use the <b style=\"color:blue;\">len( )</b> function to count the number of items inside a dictionary</p> "
   ]
  },
  {
   "cell_type": "code",
   "execution_count": 96,
   "metadata": {},
   "outputs": [
    {
     "data": {
      "text/plain": [
       "4"
      ]
     },
     "execution_count": 96,
     "metadata": {},
     "output_type": "execute_result"
    }
   ],
   "source": [
    "len(sample_dict1)"
   ]
  },
  {
   "cell_type": "markdown",
   "metadata": {},
   "source": [
    "<p><b>Note:</b> You can also iterate over the keys and values inside a dictionary.</p> "
   ]
  },
  {
   "cell_type": "code",
   "execution_count": 97,
   "metadata": {},
   "outputs": [
    {
     "name": "stdout",
     "output_type": "stream",
     "text": [
      "fname\n",
      "lname\n",
      "interets\n",
      "('GPA', 'highschool')\n"
     ]
    }
   ],
   "source": [
    "for i in sample_dict1:\n",
    "    print(i)"
   ]
  },
  {
   "cell_type": "code",
   "execution_count": 151,
   "metadata": {},
   "outputs": [
    {
     "name": "stdout",
     "output_type": "stream",
     "text": [
      "fname  :  John\n",
      "lname  :  smith\n",
      "interets  :  ['computer games', 'football']\n",
      "('GPA', 'highschool')  :  3.3\n",
      "0  :  new_value2\n"
     ]
    }
   ],
   "source": [
    "for key,value in sample_dict1.items():\n",
    "    print(key, \" : \" , value)"
   ]
  },
  {
   "cell_type": "markdown",
   "metadata": {},
   "source": [
    "<p><b>Example:</b> consider the following dictionary.</p>"
   ]
  },
  {
   "cell_type": "code",
   "execution_count": 16,
   "metadata": {},
   "outputs": [],
   "source": [
    "# Key : tuples which contains movie_name and movie_year\n",
    "# Value : IMDB rating of the movies\n",
    "movie_dict = {\n",
    "    ('Braveheart', 1995) : 8.4,\n",
    "    ('Titanic', 1997) : 7.8,\n",
    "    ('The Princess Diaries', 2001): 6.3,\n",
    "    ('crash', 2004): 7.8,\n",
    "    ('Batman Begins', 2005): 8.3,\n",
    "    ('The Godfather', 1972): 9.2\n",
    "}"
   ]
  },
  {
   "cell_type": "markdown",
   "metadata": {},
   "source": [
    "<p> Write a code to remove movies that were produced before year 2000 </p>"
   ]
  },
  {
   "cell_type": "code",
   "execution_count": 18,
   "metadata": {},
   "outputs": [
    {
     "name": "stdout",
     "output_type": "stream",
     "text": [
      "dict_keys([('Braveheart', 1995), ('Titanic', 1997), ('The Princess Diaries', 2001), ('crash', 2004), ('Batman Begins', 2005), ('The Godfather', 1972)])\n",
      "('The Princess Diaries', 2001) :  6.3\n",
      "('crash', 2004) :  7.8\n",
      "('Batman Begins', 2005) :  8.3\n"
     ]
    }
   ],
   "source": [
    "def print_dict(dic):\n",
    "    for key in dic.keys():\n",
    "        print(key,': ',dic[key])\n",
    "keys = movie_dict.keys()        \n",
    "print(keys)\n",
    "for key in list(keys):\n",
    "    if key[1] < 2000:\n",
    "       movie_dict.pop(key, None)\n",
    "print_dict(movie_dict)"
   ]
  },
  {
   "cell_type": "code",
   "execution_count": 14,
   "metadata": {},
   "outputs": [
    {
     "name": "stdout",
     "output_type": "stream",
     "text": [
      "dict_keys([('Braveheart', 1995), ('Titanic', 1997), ('The Princess Diaries', 2001), ('crash', 2004), ('Batman Begins', 2005), ('The Godfather', 1972)])\n"
     ]
    }
   ],
   "source": [
    "def print_dict(dic):\n",
    "    for key in dic.keys():\n",
    "        print(key,': ',dic[key])\n",
    "keys = movie_dict.keys()        \n",
    "print(keys)"
   ]
  },
  {
   "cell_type": "code",
   "execution_count": 17,
   "metadata": {},
   "outputs": [
    {
     "data": {
      "text/plain": [
       "{('Braveheart', 1995): 8.4,\n",
       " ('Titanic', 1997): 7.8,\n",
       " ('The Princess Diaries', 2001): 6.3,\n",
       " ('crash', 2004): 7.8,\n",
       " ('Batman Begins', 2005): 8.3,\n",
       " ('The Godfather', 1972): 9.2}"
      ]
     },
     "execution_count": 17,
     "metadata": {},
     "output_type": "execute_result"
    }
   ],
   "source": [
    "for k in movie_dict.items():\n",
    "    if k[1] <= 2000:\n",
    "        movie_dict.pop(k, None)\n",
    "        \n",
    "movie_dict"
   ]
  },
  {
   "cell_type": "markdown",
   "metadata": {},
   "source": [
    "<p><b>Note: </b> You can also use comprehensions to create dictionaies.</p>"
   ]
  },
  {
   "cell_type": "code",
   "execution_count": 99,
   "metadata": {},
   "outputs": [
    {
     "name": "stdout",
     "output_type": "stream",
     "text": [
      "{0: 0, 1: 1, 2: 8, 3: 27, 4: 64, 5: 125}\n"
     ]
    }
   ],
   "source": [
    "sample_dict = {i: i**3 for i in range(6)}\n",
    "print(sample_dict)"
   ]
  },
  {
   "cell_type": "code",
   "execution_count": 122,
   "metadata": {},
   "outputs": [
    {
     "name": "stdout",
     "output_type": "stream",
     "text": [
      "{0: 0, 1: 1, 2: 8, 3: 27, 4: 64, 5: 125}\n"
     ]
    }
   ],
   "source": [
    "sample_dict = {i: i**3 for i in range(6)}\n",
    "print(sample_dict)"
   ]
  },
  {
   "cell_type": "code",
   "execution_count": 170,
   "metadata": {},
   "outputs": [],
   "source": [
    "def calculate_GST(price, type_of_item):\n",
    "    if type_of_item == \"product\":\n",
    "        return price * 1.05\n",
    "    elif type_of_item == \"Service\"  :\n",
    "        return price * 1.18\n",
    "    \n",
    "    else:\n",
    "        return price * 1.35"
   ]
  },
  {
   "cell_type": "code",
   "execution_count": 171,
   "metadata": {},
   "outputs": [
    {
     "data": {
      "text/plain": [
       "1350.0"
      ]
     },
     "execution_count": 171,
     "metadata": {},
     "output_type": "execute_result"
    }
   ],
   "source": [
    "calculate_GST(1000, \"Product\")"
   ]
  },
  {
   "cell_type": "code",
   "execution_count": null,
   "metadata": {},
   "outputs": [],
   "source": [
    "def calculate_VAT(price, type_of_item):\n",
    "    return price * 1.2"
   ]
  },
  {
   "cell_type": "markdown",
   "metadata": {},
   "source": [
    "## 8. Sets"
   ]
  },
  {
   "cell_type": "markdown",
   "metadata": {},
   "source": [
    "<p>A set is a collection which is <u>unordered</u> and <u>unindexed</u>. In Python sets are written with curly brackets. Sets are similar to lists with the distinction that they cannot contain duplicate values</p>"
   ]
  },
  {
   "cell_type": "code",
   "execution_count": 137,
   "metadata": {},
   "outputs": [
    {
     "name": "stdout",
     "output_type": "stream",
     "text": [
      "{'apple', 'kiwi', 'banana', 'orange'}\n"
     ]
    }
   ],
   "source": [
    "fruit_set = {\"apple\", \"orange\", \"banana\", \"kiwi\"}\n",
    "print(fruit_set) "
   ]
  },
  {
   "cell_type": "code",
   "execution_count": 138,
   "metadata": {},
   "outputs": [
    {
     "name": "stdout",
     "output_type": "stream",
     "text": [
      "{'apple', 'kiwi', 'banana', 'orange'}\n"
     ]
    }
   ],
   "source": [
    "# Let's add another apple to the set and see the result\n",
    "fruit_set2 = {\"apple\", \"orange\", \"banana\", \"kiwi\", \"apple\"}\n",
    "print(fruit_set2) "
   ]
  },
  {
   "cell_type": "code",
   "execution_count": 139,
   "metadata": {},
   "outputs": [
    {
     "name": "stdout",
     "output_type": "stream",
     "text": [
      "{'apple', 'kiwi', 'banana', 'orange'}\n"
     ]
    }
   ],
   "source": [
    "# Here is another way to creat sets\n",
    "fruit_set = set([\"apple\", \"orange\", \"banana\", \"kiwi\"])\n",
    "print(fruit_set) "
   ]
  },
  {
   "cell_type": "code",
   "execution_count": 140,
   "metadata": {},
   "outputs": [
    {
     "name": "stdout",
     "output_type": "stream",
     "text": [
      "{'apple', 'kiwi', 'banana', 'orange'}\n"
     ]
    }
   ],
   "source": [
    "fruit_set = set([\"apple\", \"orange\", \"banana\", \"kiwi\"])\n",
    "print(fruit_set)"
   ]
  },
  {
   "cell_type": "markdown",
   "metadata": {},
   "source": [
    "<p><b>Note: </b> You can use <b style=\"color:blue;\">add( )</b> function to add a new value to the set. </p>"
   ]
  },
  {
   "cell_type": "code",
   "execution_count": 141,
   "metadata": {},
   "outputs": [
    {
     "name": "stdout",
     "output_type": "stream",
     "text": [
      "{'apple', 'kiwi', 'orange', 'cherry', 'banana'}\n"
     ]
    }
   ],
   "source": [
    "fruit_set.add(\"cherry\")\n",
    "print(fruit_set)"
   ]
  },
  {
   "cell_type": "markdown",
   "metadata": {},
   "source": [
    "<p><b>Note: </b> You can use <b style=\"color:blue;\">discard( )</b>, <b style=\"color:blue;\">remove( )</b> or <b style=\"color:blue;\">pop( )</b> functions to remove a value from a set.</p>"
   ]
  },
  {
   "cell_type": "code",
   "execution_count": 155,
   "metadata": {},
   "outputs": [
    {
     "name": "stdout",
     "output_type": "stream",
     "text": [
      "{'apple', 'kiwi', 'orange', 'cherry'}\n"
     ]
    }
   ],
   "source": [
    "fruit_set.discard(\"banana\")\n",
    "print(fruit_set)"
   ]
  },
  {
   "cell_type": "code",
   "execution_count": 158,
   "metadata": {},
   "outputs": [
    {
     "name": "stdout",
     "output_type": "stream",
     "text": [
      "{'kiwi', 'orange', 'cherry'}\n"
     ]
    }
   ],
   "source": [
    "fruit_set.pop()\n",
    "print(fruit_set)"
   ]
  },
  {
   "cell_type": "markdown",
   "metadata": {},
   "source": [
    "<p><b>Note: </b> Sets support math operations such as union, intersection and etc. </p>"
   ]
  },
  {
   "cell_type": "code",
   "execution_count": 159,
   "metadata": {},
   "outputs": [
    {
     "name": "stdout",
     "output_type": "stream",
     "text": [
      "{'pomegranate', 'apple', 'strawberry', 'cherry'}\n"
     ]
    }
   ],
   "source": [
    "# union\n",
    "fruit_set1 = {\"apple\", \"orange\", \"banana\", \"kiwi\"}\n",
    "fruit_set2 = {\"apple\", \"cherry\", \"pomegranate\", \"strawberry\"}\n",
    "\n",
    "fruit_set2.union(fruit_set1)\n",
    "\n",
    "# Keep in mind that the union function does not apply the operation to the original set,\n",
    "# but it returns a new set\n",
    "print(fruit_set2) "
   ]
  },
  {
   "cell_type": "code",
   "execution_count": null,
   "metadata": {},
   "outputs": [],
   "source": [
    "fruit_union_set = fruit_set2.union(fruit_set1)\n",
    "print(fruit_union_set)"
   ]
  },
  {
   "cell_type": "code",
   "execution_count": 160,
   "metadata": {},
   "outputs": [
    {
     "name": "stdout",
     "output_type": "stream",
     "text": [
      "{'apple'}\n"
     ]
    }
   ],
   "source": [
    "# Intersection\n",
    "fruit_intersection_set = fruit_set2.intersection(fruit_set1)\n",
    "print(fruit_intersection_set)"
   ]
  },
  {
   "cell_type": "markdown",
   "metadata": {},
   "source": [
    "## 9. Classes and Objects"
   ]
  },
  {
   "cell_type": "markdown",
   "metadata": {},
   "source": [
    "<p>\n",
    "Classes provide a means of bundling data and functionality together. Creating a new class creates a new type of object, allowing new instances of that type to be made. Each class instance can have attributes attached to it for maintaining its state. Class instances can also have methods (defined by its class) for modifying its state\n",
    "</p>"
   ]
  },
  {
   "cell_type": "code",
   "execution_count": 161,
   "metadata": {},
   "outputs": [
    {
     "name": "stdout",
     "output_type": "stream",
     "text": [
      "John is 20 years old\n"
     ]
    }
   ],
   "source": [
    "class Human:\n",
    "    def __init__(self, age = 1 , gender = 'female', name = 'unknown'):\n",
    "        self.age = age\n",
    "        self.gender = gender\n",
    "        self.name = name\n",
    "        self.status = 'sleep'\n",
    "        if self.gender == 'female':\n",
    "            self.pronoun = \"She\"\n",
    "        elif self.gender == 'male':\n",
    "            self.pronoun = \"He\"\n",
    "        \n",
    "    def getting_older(self):\n",
    "        \"\"\"Adds 1 year to the age\"\"\"\n",
    "        self.age += 1\n",
    "        \n",
    "    def walk(self):\n",
    "        \"\"\"change the current status to walk\"\"\"\n",
    "        self.status = 'walk'\n",
    "    \n",
    "    def sleep(self):\n",
    "        \"\"\"change the current status to walk\"\"\"\n",
    "        self.status = 'sleep'\n",
    "        \n",
    "    def get_current_age(self):\n",
    "        \"\"\"Prints the current age\"\"\"\n",
    "        print(\"{} is {} years old\".format(self.name, self.age)) \n",
    "    \n",
    "    def get_current_status(self):\n",
    "        \"\"\"Prints the current status\"\"\"\n",
    "        if self.status == 'sleep':\n",
    "            print(\"{} is sleeping\".format(self.pronoun))\n",
    "        elif self.status == 'walk':\n",
    "            print(\"{} is walking\".format(self.pronoun))\n",
    "            \n",
    "John = Human(20, 'male', 'John')\n",
    "John.get_current_age()"
   ]
  },
  {
   "cell_type": "code",
   "execution_count": 162,
   "metadata": {},
   "outputs": [
    {
     "name": "stdout",
     "output_type": "stream",
     "text": [
      "He is sleeping\n"
     ]
    }
   ],
   "source": [
    "John.get_current_status()"
   ]
  },
  {
   "cell_type": "code",
   "execution_count": 163,
   "metadata": {},
   "outputs": [
    {
     "name": "stdout",
     "output_type": "stream",
     "text": [
      "John is 21 years old\n",
      "He is walking\n"
     ]
    }
   ],
   "source": [
    "John.getting_older()\n",
    "John.walk()\n",
    "John.get_current_age()\n",
    "John.get_current_status()"
   ]
  },
  {
   "cell_type": "markdown",
   "metadata": {},
   "source": [
    "<p><b>Advanced topic:</b> It is aslo good for students to know about the concept of <span style=\"color:blue;\">Inheritance</span> in Python</p>"
   ]
  },
  {
   "cell_type": "markdown",
   "metadata": {},
   "source": [
    "## 10. Complementary Information"
   ]
  },
  {
   "cell_type": "markdown",
   "metadata": {},
   "source": [
    "### 10.1. Getting Help"
   ]
  },
  {
   "cell_type": "markdown",
   "metadata": {},
   "source": [
    "<p> Every Python object contains a <i>docstring</i> refernce which provides complementary information about the object and the way that you can use it.</p>\n",
    "\n",
    "<p>There are two ways to access to docstring:</p>\n",
    "<ul>\n",
    "    <li><b style=\"color:blue;\">help( )</b> function</li>\n",
    "    <li><b style=\"color:blue;\">?</b> character</li>\n",
    "</ul>"
   ]
  },
  {
   "cell_type": "code",
   "execution_count": null,
   "metadata": {},
   "outputs": [],
   "source": [
    "# An example that shows how to use help() function.\n",
    "help(max)"
   ]
  },
  {
   "cell_type": "code",
   "execution_count": null,
   "metadata": {},
   "outputs": [],
   "source": [
    "help(a_list.append)"
   ]
  },
  {
   "cell_type": "markdown",
   "metadata": {},
   "source": [
    "<p><b>Note:</b> if you need to find the list of methods associated with an object, you can write the name of the object with a period (.) after that followed by Tab key. Here is an example:</p>\n",
    "\n",
    "<p>&nbsp;&nbsp;&nbsp;&nbsp;&nbsp;&nbsp;&nbsp;&nbsp;&nbsp;&nbsp;a_list. <i>\"press the tab key\"</i></p>\n",
    "<br/>\n",
    "<p>If you are looking for a specific method, you can type the initial names of that method and then press the tab key  </p>\n",
    "\n",
    "<p>&nbsp;&nbsp;&nbsp;&nbsp;&nbsp;&nbsp;&nbsp;&nbsp;&nbsp;&nbsp;a_list.app <i>\"press the tab key\"</i></p>"
   ]
  },
  {
   "cell_type": "code",
   "execution_count": null,
   "metadata": {},
   "outputs": [],
   "source": [
    "# You can test the above feature over here  "
   ]
  },
  {
   "cell_type": "markdown",
   "metadata": {},
   "source": [
    "### 10.2. Magic Commands"
   ]
  },
  {
   "cell_type": "markdown",
   "metadata": {},
   "source": [
    "<p>Magic commands are designed to succinctly solve various common problems in standard data analysis. There are two different formats of magic commands:</p>\n",
    "<ul>\n",
    "    <li>line magics - <span style=\"color:blue;\">single % prefix</span></li>\n",
    "    <li>cell magics - <span style=\"color:blue;\">double %% prefix</span></li>\n",
    "</ul>\n",
    "\n",
    "<p>Here is the list of few popular magic commands:</p>\n",
    "<ul>\n",
    "    <li><span style=\"color:blue;\">%run</span>: Run the named file inside IPython as a program </li>\n",
    "    <li><span style=\"color:blue;\">%timeit</span>: Automatically determine the execution time of the single-line Python statement that follows it</li>\n",
    "    <ul>\n",
    "        <li>If you want to use it for a code block you need to use <span style=\"color:blue;\">%%timeit</span></li>\n",
    "    </ul>\n",
    "    <li><span style=\"color:blue;\">%time</span>: Return the CPU and wall clock times for running a code.</li>\n",
    "    <li><span style=\"color:blue;\">%lprun</span>: Will do a line-by-line profiling of any function and gives you information about number of hits and time line by line.</li>\n",
    "    <ul>\n",
    "        <li>You need to install the line_profiler package using pip or conda</span></li>\n",
    "    </ul>\n",
    "    <li><span style=\"color:blue;\">%memit</span> and <span style=\"color:blue;\">%mprun</span>: Provide memory usage information.</li>\n",
    "    <ul>\n",
    "        <li>You need to install the memory_profiler package using pip or conda</span></li>\n",
    "    </ul>\n",
    "</ul>"
   ]
  },
  {
   "cell_type": "markdown",
   "metadata": {},
   "source": [
    "<p><b>Example: </b> You can find some examples over here: </p>"
   ]
  },
  {
   "cell_type": "code",
   "execution_count": null,
   "metadata": {},
   "outputs": [],
   "source": [
    "%run simpleCode.py"
   ]
  },
  {
   "cell_type": "code",
   "execution_count": null,
   "metadata": {},
   "outputs": [],
   "source": [
    "%timeit a_list = [i**2 for i in range(1000)]"
   ]
  },
  {
   "cell_type": "code",
   "execution_count": null,
   "metadata": {},
   "outputs": [],
   "source": [
    "%%timeit\n",
    "a_list = list()\n",
    "for i in range(1000):\n",
    "    a_list.append(i**2)"
   ]
  },
  {
   "cell_type": "code",
   "execution_count": null,
   "metadata": {},
   "outputs": [],
   "source": [
    "%%time\n",
    "total = 0\n",
    "for i in range(10):\n",
    "    for j in range(10):\n",
    "        total += i**j "
   ]
  },
  {
   "cell_type": "code",
   "execution_count": 27,
   "metadata": {},
   "outputs": [
    {
     "name": "stdout",
     "output_type": "stream",
     "text": [
      "/bin/sh: conda: command not found\r\n"
     ]
    }
   ],
   "source": [
    "# If you have not installed the line_profiler package, \n",
    "# uncomment the next two lines and run them\n",
    "\n",
    "import sys\n",
    "!conda install --yes --prefix \"{sys.prefix}\" line_profiler"
   ]
  },
  {
   "cell_type": "code",
   "execution_count": 29,
   "metadata": {},
   "outputs": [],
   "source": [
    "#%load_ext line_profiler"
   ]
  },
  {
   "cell_type": "code",
   "execution_count": null,
   "metadata": {},
   "outputs": [],
   "source": [
    "def sum_of_lists(N): \n",
    "    total = 0\n",
    "    for i in range(5):\n",
    "        L = [j ** i for j in range(N)] \n",
    "        total += sum(L)\n",
    "    return total\n",
    "\n",
    "%lprun -f sum_of_lists sum_of_lists(5000) # the output is on a separate window"
   ]
  },
  {
   "cell_type": "code",
   "execution_count": null,
   "metadata": {},
   "outputs": [],
   "source": [
    "# If you have not installed the memory_profiler package,\n",
    "# uncomment the next two lines and run them\n",
    "\n",
    "#import sys\n",
    "#!conda install --yes --prefix \"{sys.prefix}\" memory_profiler"
   ]
  },
  {
   "cell_type": "code",
   "execution_count": null,
   "metadata": {},
   "outputs": [],
   "source": [
    "%load_ext memory_profiler"
   ]
  },
  {
   "cell_type": "code",
   "execution_count": null,
   "metadata": {},
   "outputs": [],
   "source": [
    "def sum_of_lists(N): \n",
    "    total = 0\n",
    "    for i in range(5):\n",
    "        L = [j ** i for j in range(N)] \n",
    "        total += sum(L)\n",
    "        del L # This line has been added\n",
    "    return total\n",
    "\n",
    "%memit sum_of_lists(100000)"
   ]
  },
  {
   "cell_type": "code",
   "execution_count": null,
   "metadata": {},
   "outputs": [],
   "source": [
    "# You cannot get the memory information line by line unless \n",
    "# you save your function as a separate file\n",
    "%mprun -f sum_of_lists sum_of_lists(100000) "
   ]
  },
  {
   "cell_type": "markdown",
   "metadata": {},
   "source": [
    "<p><b>Note:</b> To create a physical copy of a function you can write it in separate editor and save it or you can use <span style=\"color:blue;\">%%file</span> magic command. </p>\n",
    "\n",
    "<p><b>Example:</b> Here is an example that shows how <span style=\"color:blue;\">%%file</span> works. This block of the code will save the sum_of_lists function into demo_code.py file</p>"
   ]
  },
  {
   "cell_type": "code",
   "execution_count": null,
   "metadata": {},
   "outputs": [],
   "source": [
    "%%file demo_code.py \n",
    "def sum_of_lists(N): \n",
    "    total = 0\n",
    "    for i in range(5):\n",
    "        L = [j ** i for j in range(N)] \n",
    "        total += sum(L)\n",
    "        del L # This line has been added\n",
    "    return total"
   ]
  },
  {
   "cell_type": "code",
   "execution_count": null,
   "metadata": {},
   "outputs": [],
   "source": [
    "# Now you can get the memory usage line by line\n",
    "from demo_code import sum_of_lists\n",
    "%mprun -f sum_of_lists sum_of_lists(100000) # the output is on a separate window"
   ]
  },
  {
   "cell_type": "markdown",
   "metadata": {},
   "source": [
    "### 10.3. Input and Output History"
   ]
  },
  {
   "cell_type": "markdown",
   "metadata": {},
   "source": [
    "<p>You can have access to previous output with the variable <span style=\"color:blue;\">_</span> (a single underscore) </p>"
   ]
  },
  {
   "cell_type": "code",
   "execution_count": null,
   "metadata": {},
   "outputs": [],
   "source": [
    "24 * 60 * 60"
   ]
  },
  {
   "cell_type": "code",
   "execution_count": null,
   "metadata": {},
   "outputs": [],
   "source": [
    "_ * 100"
   ]
  },
  {
   "cell_type": "markdown",
   "metadata": {},
   "source": [
    "<p><b>Note:</b> It is important that you understand the different between Out[ ] and the output of the print( ) function.</p>\n",
    "<p><b>Note:</b> In Jupyter you can access to second-to-last output by using <span style=\"color:blue;\">__</span> (double underscore) and third-to-last output by using <span style=\"color:blue;\">___</span> (triple underscore)</p>"
   ]
  },
  {
   "cell_type": "code",
   "execution_count": null,
   "metadata": {},
   "outputs": [],
   "source": [
    "__ / 100  # 86400/100"
   ]
  },
  {
   "cell_type": "code",
   "execution_count": null,
   "metadata": {},
   "outputs": [],
   "source": [
    "___ * 5  # 86400*100"
   ]
  },
  {
   "cell_type": "code",
   "execution_count": 172,
   "metadata": {},
   "outputs": [],
   "source": [
    "import math"
   ]
  },
  {
   "cell_type": "code",
   "execution_count": 174,
   "metadata": {},
   "outputs": [
    {
     "data": {
      "text/plain": [
       "6"
      ]
     },
     "execution_count": 174,
     "metadata": {},
     "output_type": "execute_result"
    }
   ],
   "source": [
    "math.floor(6.7)"
   ]
  },
  {
   "cell_type": "code",
   "execution_count": 175,
   "metadata": {},
   "outputs": [
    {
     "data": {
      "text/plain": [
       "2"
      ]
     },
     "execution_count": 175,
     "metadata": {},
     "output_type": "execute_result"
    }
   ],
   "source": [
    "math.gcd(234, 452)"
   ]
  },
  {
   "cell_type": "code",
   "execution_count": 192,
   "metadata": {},
   "outputs": [
    {
     "name": "stdout",
     "output_type": "stream",
     "text": [
      "Please enter an integer: 9\n",
      "2\n",
      "3\n",
      "4\n",
      "5\n",
      "6\n",
      "7\n",
      "8\n"
     ]
    }
   ],
   "source": [
    "N = int(input(\"Please enter an integer: \"))\n",
    "for x in range (0, N):\n",
    "  if x > 1:\n",
    "    for i in range (2, N):\n",
    "      if x % N == 0:\n",
    "        break\n",
    "    else:\n",
    "        print(x)"
   ]
  },
  {
   "cell_type": "code",
   "execution_count": 199,
   "metadata": {},
   "outputs": [
    {
     "name": "stdout",
     "output_type": "stream",
     "text": [
      "Please enter a text: I am good\n",
      "None\n",
      "None\n",
      "None\n",
      "None\n",
      "None\n",
      "None\n",
      "None\n",
      "None\n",
      "None\n"
     ]
    }
   ],
   "source": [
    "vowel = \"aiou\"\n",
    "\n",
    "text = input(\"Please enter a text: \")\n",
    "counter = 0\n",
    "\n",
    "for i in range (0, len(text)):\n",
    "    c = text[i]\n",
    "    if c == vowel:\n",
    "        counter += 1\n",
    "    print()"
   ]
  },
  {
   "cell_type": "code",
   "execution_count": 202,
   "metadata": {},
   "outputs": [
    {
     "name": "stdout",
     "output_type": "stream",
     "text": [
      "please enter a text: aryeui\n"
     ]
    }
   ],
   "source": [
    "vowel = \"auoli\"\n",
    "text = input(\"please enter a text: \")\n",
    "for i in range(len(text)):\n",
    "    c = text[i]\n",
    "    if c == vowel:\n",
    "        print(c)\n",
    "    else: \n",
    "        break"
   ]
  },
  {
   "cell_type": "code",
   "execution_count": 31,
   "metadata": {},
   "outputs": [
    {
     "name": "stdout",
     "output_type": "stream",
     "text": [
      "* * * * * \n",
      "\n",
      "* * * * \n",
      "\n",
      "* * * \n",
      "\n",
      "* * \n",
      "\n",
      "* \n",
      "\n"
     ]
    }
   ],
   "source": [
    "for i in range (5,0,-1):\n",
    "    for j in range (0, i):\n",
    "        print('*', end=\" \")\n",
    "    print(\"\\n\")"
   ]
  },
  {
   "cell_type": "code",
   "execution_count": 36,
   "metadata": {},
   "outputs": [
    {
     "data": {
      "text/plain": [
       "9"
      ]
     },
     "execution_count": 36,
     "metadata": {},
     "output_type": "execute_result"
    }
   ],
   "source": [
    "def power(num, x=1):\n",
    "    result = 1\n",
    "    for i in range(x):\n",
    "        result = result * num\n",
    "    return result\n",
    "power(3,2)"
   ]
  },
  {
   "cell_type": "code",
   "execution_count": 61,
   "metadata": {},
   "outputs": [
    {
     "name": "stdout",
     "output_type": "stream",
     "text": [
      "addddffffsss0##^&\n"
     ]
    }
   ],
   "source": [
    "input = \"SSFFDDSSSSsadsf&sdf^453045##213dfdf56\"\n",
    "\n",
    "# expected : ad.... + 1 + ##^&\n",
    "\n",
    "pattern = \"~!@#$%^&*()_+=-\"\n",
    "patternNum = \"0123456789\"\n",
    "patternLetter = \"abcdefghijklmnopqrstuwxyz\"\n",
    "\n",
    "specialChars = \"\"\n",
    "numbers = \"\"\n",
    "letters = \"\"\n",
    "\n",
    "for ch in input:\n",
    "    if ch in pattern:\n",
    "        specialChars+= ch\n",
    "specialChars = specialChars[::-1]        \n",
    "        \n",
    "for num in input:\n",
    "    if num in patternNum:\n",
    "        numbers+= num\n",
    "\n",
    "for text in input:\n",
    "    if text in patternLetter:\n",
    "        letters += text\n",
    "\n",
    "sortedLetters =(''.join(sorted(letters)))\n",
    "     \n",
    "minNum = numbers[0]\n",
    "\n",
    "for i in range(1,len(numbers)):\n",
    "    if minNum > numbers[i]:\n",
    "        minNum = numbers[i]\n",
    "        \n",
    "        \n",
    "print(sortedLetters + minNum + specialChars)\n"
   ]
  },
  {
   "cell_type": "code",
   "execution_count": null,
   "metadata": {},
   "outputs": [],
   "source": []
  },
  {
   "cell_type": "code",
   "execution_count": 90,
   "metadata": {},
   "outputs": [
    {
     "data": {
      "text/plain": [
       "'AAAEFSWaddddffffsss0##^&'"
      ]
     },
     "execution_count": 90,
     "metadata": {},
     "output_type": "execute_result"
    }
   ],
   "source": [
    "def specialSorting(inString):\n",
    "    patternChars = \"~!@#$%^&*()_+=-\"\n",
    "    patternNumbers = \"0123456789\"\n",
    "    specialChars = \"\"\n",
    "    numbers = \"\"\n",
    "    letters = \"\"\n",
    "    for ch in inString:\n",
    "        if ch in patternChars:\n",
    "            specialChars += ch\n",
    "        elif ch in patternNumbers:\n",
    "            numbers =+ ch\n",
    "        else:\n",
    "            letters =+ ch\n",
    "    \n",
    "    specialChars =  specialChars[::-1] \n",
    "    sortedLetters = (''. join(sorted(letters)))\n",
    "        \n",
    "    minNum = numbers[0] \n",
    "    for i in range (1, len(numbers)):\n",
    "        if minNum > numbers[i]:\n",
    "            minNum = numbers[i]\n",
    "            \n",
    "    return sortedLetters + minNum + specialChars\n",
    "\n",
    "\n",
    "myInput = \"AAASFEWsadsf&sdf^453045##213dfdf56\"\n",
    "specialSorting(myInput)    "
   ]
  },
  {
   "cell_type": "code",
   "execution_count": 95,
   "metadata": {},
   "outputs": [
    {
     "data": {
      "text/plain": [
       "120"
      ]
     },
     "execution_count": 95,
     "metadata": {},
     "output_type": "execute_result"
    }
   ],
   "source": [
    "def facts(num):\n",
    "    if num < 0:\n",
    "        return 0\n",
    "    elif num == 0 or num == 1:\n",
    "        return 1\n",
    "    else:\n",
    "        result = 1\n",
    "      \n",
    "        while (num >1):\n",
    "            result = result * num\n",
    "            num = num -1\n",
    "        return result\n",
    "facts(5)                "
   ]
  },
  {
   "cell_type": "code",
   "execution_count": null,
   "metadata": {},
   "outputs": [],
   "source": [
    "Output :2500\n",
    "We need to find simple interest on \n",
    "Rs. 10,000 at the rate of 5% for 5 \n",
    "units of time.\n",
    "p = 10,000\n",
    "r = 5\n",
    "t = 5"
   ]
  },
  {
   "cell_type": "code",
   "execution_count": null,
   "metadata": {},
   "outputs": [],
   "source": [
    "def simple_interest(p,t,r):\n",
    "    print('The principal is', p)\n",
    "    print('The time period is', t)\n",
    "    print('The rate of interest is', r)\n",
    "    \n",
    "    si = (p * t * r) /100\n",
    "    print('The simple interest is', si)\n",
    "    return si"
   ]
  },
  {
   "cell_type": "code",
   "execution_count": null,
   "metadata": {},
   "outputs": [],
   "source": [
    "x = np.zeros((n,n), dtype = int)"
   ]
  },
  {
   "cell_type": "code",
   "execution_count": null,
   "metadata": {},
   "outputs": [],
   "source": [
    "import numpy as np\n",
    "def printckeckboard(n):\n",
    "    print(\"checkboard pattern:\")\n",
    "    \n",
    "    x[1::2, ::2] = 1\n",
    "    x[::2, 1::2] = 1\n",
    "    \n",
    "    for i in range(n):\n",
    "        for j in range(n):\n",
    "            print(x[i][j], end = \"\")\n",
    "        print()\n",
    "        "
   ]
  },
  {
   "cell_type": "code",
   "execution_count": null,
   "metadata": {},
   "outputs": [],
   "source": [
    "def pattern(n):\n",
    "    for i in n:\n",
    "        print(\"|\", end = \"\")\n",
    "        print(\"*\" * int(i))\n",
    "        \n",
    "n = \"41325\"\n",
    "pattern(n)"
   ]
  },
  {
   "cell_type": "code",
   "execution_count": null,
   "metadata": {},
   "outputs": [],
   "source": [
    "Input : Principle (amount): 1200\n",
    "        Time: 2\n",
    "        Rate: 5.4\n",
    "Output : Compound Interest = 1333.099243"
   ]
  },
  {
   "cell_type": "code",
   "execution_count": null,
   "metadata": {},
   "outputs": [],
   "source": [
    "def compound_interest(principal, rate, time):\n",
    "    Amount = principle * (pow((1+rate), time))\n",
    "    CI =  Amount - principle\n",
    "    print(\"Compound interest is\", CI)\n",
    "    \n",
    "compound_interest(10000, 10.25, 5) \n",
    "   "
   ]
  },
  {
   "cell_type": "code",
   "execution_count": null,
   "metadata": {},
   "outputs": [],
   "source": []
  },
  {
   "cell_type": "code",
   "execution_count": 117,
   "metadata": {},
   "outputs": [],
   "source": [
    "def printFib(n):\n",
    "    if n==0 or n==1:\n",
    "        return 1\n",
    "    return printFib(n-1) + printFib(n - 2)"
   ]
  },
  {
   "cell_type": "code",
   "execution_count": 123,
   "metadata": {},
   "outputs": [
    {
     "data": {
      "text/plain": [
       "4181"
      ]
     },
     "execution_count": 123,
     "metadata": {},
     "output_type": "execute_result"
    }
   ],
   "source": [
    "printFib(18)"
   ]
  },
  {
   "cell_type": "code",
   "execution_count": 122,
   "metadata": {},
   "outputs": [],
   "source": [
    "def fib(n):\n",
    "    lst = [] \n",
    "    for i in range(0,n+1):\n",
    "        if i == 0 or i == 1:\n",
    "            lst.append(1)\n",
    "        else:\n",
    "            lst.append(lst[i-1] + lst[i-2])\n",
    "        \n",
    "    return lst[n]    "
   ]
  },
  {
   "cell_type": "code",
   "execution_count": 124,
   "metadata": {},
   "outputs": [
    {
     "data": {
      "text/plain": [
       "4181"
      ]
     },
     "execution_count": 124,
     "metadata": {},
     "output_type": "execute_result"
    }
   ],
   "source": [
    "fib(18)"
   ]
  },
  {
   "cell_type": "code",
   "execution_count": 125,
   "metadata": {},
   "outputs": [
    {
     "data": {
      "text/plain": [
       "120"
      ]
     },
     "execution_count": 125,
     "metadata": {},
     "output_type": "execute_result"
    }
   ],
   "source": [
    "def fact(n):\n",
    "    if n <0:\n",
    "        return 0\n",
    "    elif n == 0 or n==1:\n",
    "        return 1\n",
    "    else:\n",
    "        result = 1\n",
    "        while (n >1):\n",
    "            result = result * n\n",
    "            n = n-1\n",
    "    return result\n",
    "\n",
    "fact(5)"
   ]
  },
  {
   "cell_type": "code",
   "execution_count": 132,
   "metadata": {},
   "outputs": [],
   "source": [
    "def recursiveFact(n):\n",
    "    if n < 0:\n",
    "        return 0\n",
    "    elif n ==0 or n==1:\n",
    "        return 1\n",
    "      \n",
    "    return n * recursiveFact(n-1)"
   ]
  },
  {
   "cell_type": "code",
   "execution_count": 133,
   "metadata": {},
   "outputs": [
    {
     "data": {
      "text/plain": [
       "120"
      ]
     },
     "execution_count": 133,
     "metadata": {},
     "output_type": "execute_result"
    }
   ],
   "source": [
    "recursiveFact(5)"
   ]
  },
  {
   "cell_type": "code",
   "execution_count": 137,
   "metadata": {},
   "outputs": [
    {
     "name": "stdout",
     "output_type": "stream",
     "text": [
      "5 6 52 36 12 10 "
     ]
    }
   ],
   "source": [
    "#Python program to split array and move first \n",
    "# part to end. \n",
    "\n",
    "def splitArr(arr, n, k):\n",
    "    for i in range (0,k):\n",
    "        x = arr[0]\n",
    "        for j in range (0, n-1):\n",
    "            arr[j]= arr[j+1]\n",
    "        arr[n-1] = x\n",
    "        \n",
    "arr = [12, 10, 5, 6, 52, 36]  \n",
    "n = len(arr)\n",
    "position = 2\n",
    "splitArr(arr,n,position)\n",
    "for i in range (0, n):\n",
    "    print(arr[i], end = ' ')"
   ]
  },
  {
   "cell_type": "code",
   "execution_count": null,
   "metadata": {},
   "outputs": [],
   "source": [
    "number = int(please enter a number)\n",
    "sum = 0\n",
    "for i in range (1,number):\n",
    "    if number % i == 0:\n",
    "        sum = sum + i\n",
    "if (sum == number):\n",
    "    print(\"{} is perfect number\".format(number))\n",
    "else:\n",
    "    print(\"{} is not a perfect number\".format(number))\n",
    "\n",
    " "
   ]
  },
  {
   "cell_type": "code",
   "execution_count": null,
   "metadata": {},
   "outputs": [],
   "source": [
    "# Python3 Program to \n",
    "# find sum of square \n",
    "# of first n natural  \n",
    "# numbers\n",
    "\n",
    "def squaresum(n):\n",
    "    sum = 0\n",
    "    for i in range (1,n+1):\n",
    "        sum = sum + (i*i)\n",
    "        \n",
    "    return sum"
   ]
  },
  {
   "cell_type": "code",
   "execution_count": null,
   "metadata": {},
   "outputs": [],
   "source": [
    "def qubesum(n):\n",
    "    sum = 0\n",
    "    for i in range (1,n+1):\n",
    "        sum = sum +(i*i*i)\n",
    "    return sum"
   ]
  },
  {
   "cell_type": "code",
   "execution_count": null,
   "metadata": {},
   "outputs": [],
   "source": [
    " # sum of elements in given array  \n",
    "def sum(arr):\n",
    "    sum = 0\n",
    "    for i in array:\n",
    "        sum = sum + i\n",
    "    return sum    "
   ]
  },
  {
   "cell_type": "code",
   "execution_count": null,
   "metadata": {},
   "outputs": [],
   "source": [
    "def largest_arr(arr,n):\n",
    "    max = arr[0]\n",
    "    for i in range(1,n):\n",
    "        if arr[i] > max:\n",
    "            max = arr[i]  \n",
    "    return max   "
   ]
  }
 ],
 "metadata": {
  "kernelspec": {
   "display_name": "Python 3",
   "language": "python",
   "name": "python3"
  },
  "language_info": {
   "codemirror_mode": {
    "name": "ipython",
    "version": 3
   },
   "file_extension": ".py",
   "mimetype": "text/x-python",
   "name": "python",
   "nbconvert_exporter": "python",
   "pygments_lexer": "ipython3",
   "version": "3.7.2"
  }
 },
 "nbformat": 4,
 "nbformat_minor": 2
}
